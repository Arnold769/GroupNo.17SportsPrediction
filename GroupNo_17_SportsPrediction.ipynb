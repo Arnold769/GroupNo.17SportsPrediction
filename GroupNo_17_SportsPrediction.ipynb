{
  "cells": [
    {
      "cell_type": "code",
      "execution_count": 2,
      "metadata": {
        "id": "AH3VmSOmBPEA",
        "colab": {
          "base_uri": "https://localhost:8080/"
        },
        "outputId": "2de82674-3422-4fe6-d67f-95c696a39edf"
      },
      "outputs": [
        {
          "output_type": "stream",
          "name": "stdout",
          "text": [
            "Drive already mounted at /content/drive; to attempt to forcibly remount, call drive.mount(\"/content/drive\", force_remount=True).\n"
          ]
        }
      ],
      "source": [
        "#importing modules\n",
        "import pandas as pd\n",
        "import os\n",
        "import sklearn\n",
        "import numpy as np\n",
        "import pandas as pd\n",
        "import numpy as np, pandas as pd\n",
        "import matplotlib.pyplot as plt\n",
        "from sklearn import tree, metrics\n",
        "from sklearn.impute import SimpleImputer\n",
        "from sklearn.preprocessing import LabelEncoder, OneHotEncoder\n",
        "from sklearn.model_selection import train_test_split\n",
        "from sklearn.metrics import mean_absolute_error, mean_squared_error\n",
        "from google.colab import drive\n",
        "import joblib\n",
        "\n",
        "drive.mount('/content/drive')"
      ]
    },
    {
      "cell_type": "markdown",
      "source": [],
      "metadata": {
        "id": "wjCVbN3302ZL"
      }
    },
    {
      "cell_type": "markdown",
      "metadata": {
        "id": "HvzCfJmd2s2o"
      },
      "source": [
        "DATA PREPOROCESSING"
      ]
    },
    {
      "cell_type": "code",
      "execution_count": 3,
      "metadata": {
        "id": "ZScpjYwgKSY8",
        "colab": {
          "base_uri": "https://localhost:8080/"
        },
        "outputId": "1fe4e185-6915-4302-9684-2ef306c3e6d4"
      },
      "outputs": [
        {
          "output_type": "stream",
          "name": "stdout",
          "text": [
            "<class 'pandas.core.frame.DataFrame'>\n",
            "RangeIndex: 18944 entries, 0 to 18943\n",
            "Columns: 110 entries, sofifa_id to nation_flag_url\n",
            "dtypes: float64(16), int64(44), object(50)\n",
            "memory usage: 15.9+ MB\n"
          ]
        }
      ],
      "source": [
        "#loading the dataset for preproccesing and feature engineering\n",
        "df = pd.read_csv('/content/drive/MyDrive/Colab Notebooks/players_21.csv')\n",
        "df.info()"
      ]
    },
    {
      "cell_type": "code",
      "execution_count": 4,
      "metadata": {
        "id": "HPJ62cQmYoA7",
        "colab": {
          "base_uri": "https://localhost:8080/"
        },
        "outputId": "713a20d0-a911-4ef1-f3fc-6f6ad1c4379d"
      },
      "outputs": [
        {
          "output_type": "execute_result",
          "data": {
            "text/plain": [
              "overall                        1.000000\n",
              "movement_reactions             0.867234\n",
              "passing                        0.711521\n",
              "mentality_composure            0.705252\n",
              "dribbling                      0.641097\n",
              "potential                      0.636366\n",
              "power_shot_power               0.558372\n",
              "physic                         0.530386\n",
              "mentality_vision               0.509087\n",
              "attacking_short_passing        0.502191\n",
              "goalkeeping_speed              0.497350\n",
              "shooting                       0.488315\n",
              "skill_long_passing             0.487147\n",
              "age                            0.468197\n",
              "skill_ball_control             0.449372\n",
              "skill_curve                    0.420495\n",
              "attacking_crossing             0.410530\n",
              "power_long_shots               0.407525\n",
              "mentality_aggression           0.401920\n",
              "skill_fk_accuracy              0.385617\n",
              "power_stamina                  0.381869\n",
              "skill_dribbling                0.378455\n",
              "attacking_volleys              0.374330\n",
              "defending                      0.358524\n",
              "power_strength                 0.358049\n",
              "mentality_positioning          0.354239\n",
              "mentality_penalties            0.328198\n",
              "attacking_heading_accuracy     0.327239\n",
              "attacking_finishing            0.325413\n",
              "defending_marking_awareness    0.320986\n",
              "mentality_interceptions        0.320162\n",
              "power_jumping                  0.282440\n",
              "movement_agility               0.279889\n",
              "defending_standing_tackle      0.260325\n",
              "defending_sliding_tackle       0.232392\n",
              "movement_sprint_speed          0.215745\n",
              "movement_acceleration          0.206962\n",
              "pace                           0.202962\n",
              "weight_kg                      0.146242\n",
              "movement_balance               0.128349\n",
              "height_cm                      0.031579\n",
              "goalkeeping_positioning        0.012274\n",
              "goalkeeping_reflexes           0.004052\n",
              "goalkeeping_handling           0.003454\n",
              "goalkeeping_diving             0.003128\n",
              "goalkeeping_kicking           -0.000512\n",
              "Name: overall, dtype: float64"
            ]
          },
          "metadata": {},
          "execution_count": 4
        }
      ],
      "source": [
        "#finding the correlation between each feature and the overall rating of the player\n",
        "#finding the correlation between each physical attribute and the overall rating of the player is our focus, rather than using extrinsic features such as wages and club name\n",
        "selected_features = ['overall', 'potential', 'age', 'height_cm', 'weight_kg', 'pace', 'shooting', 'passing',\n",
        "                     'dribbling', 'defending', 'physic', 'attacking_crossing', 'attacking_finishing',\n",
        "                     'attacking_heading_accuracy', 'attacking_short_passing', 'attacking_volleys',\n",
        "                     'skill_dribbling', 'skill_curve', 'skill_fk_accuracy', 'skill_long_passing',\n",
        "                     'skill_ball_control', 'movement_acceleration', 'movement_sprint_speed', 'movement_agility',\n",
        "                     'movement_reactions', 'movement_balance', 'power_shot_power', 'power_jumping', 'power_stamina',\n",
        "                     'power_strength', 'power_long_shots', 'mentality_aggression', 'mentality_interceptions',\n",
        "                     'mentality_positioning', 'mentality_vision', 'mentality_penalties', 'mentality_composure',\n",
        "                     'defending_marking_awareness', 'defending_standing_tackle', 'defending_sliding_tackle',\n",
        "                     'goalkeeping_diving', 'goalkeeping_handling', 'goalkeeping_kicking', 'goalkeeping_positioning',\n",
        "                     'goalkeeping_reflexes', 'goalkeeping_speed']\n",
        "correlation_matrix = df[selected_features].corr()\n",
        "#sorts the features with the heighest correlation to the overall in ascending order\n",
        "correlation_matrix['overall'].sort_values(ascending=False)"
      ]
    },
    {
      "cell_type": "code",
      "execution_count": 5,
      "metadata": {
        "id": "QSe7VKAOYt3g"
      },
      "outputs": [],
      "source": [
        "#selecting the best correlated features\n",
        "selected_columns = ['skill_long_passing', 'skill_ball_control', 'skill_curve', 'skill_fk_accuracy', 'skill_dribbling',\n",
        "                    'goalkeeping_handling', 'attacking_crossing', 'movement_reactions', 'age',\n",
        "                    'mentality_aggression', 'mentality_vision', 'mentality_interceptions', 'goalkeeping_kicking',\n",
        "                    'goalkeeping_speed', 'shooting', 'dribbling', 'power_shot_power','power_long_shots', 'defending', 'goalkeeping_reflexes',\n",
        "                    'potential', 'mentality_composure', 'mentality_positioning', 'mentality_penalties', 'passing',\n",
        "                    'attacking_short_passing', 'physic', 'overall', 'goalkeeping_positioning', 'goalkeeping_diving',\n",
        "                    'attacking_volleys', 'attacking_finishing']\n"
      ]
    },
    {
      "cell_type": "code",
      "execution_count": 6,
      "metadata": {
        "id": "Ie47dO1WYvJa",
        "colab": {
          "base_uri": "https://localhost:8080/"
        },
        "outputId": "4f69d803-7965-45e1-dae6-06251ee8f189"
      },
      "outputs": [
        {
          "output_type": "stream",
          "name": "stdout",
          "text": [
            "<class 'pandas.core.frame.DataFrame'>\n",
            "RangeIndex: 18944 entries, 0 to 18943\n",
            "Data columns (total 32 columns):\n",
            " #   Column                   Non-Null Count  Dtype  \n",
            "---  ------                   --------------  -----  \n",
            " 0   overall                  18944 non-null  int64  \n",
            " 1   potential                18944 non-null  int64  \n",
            " 2   age                      18944 non-null  int64  \n",
            " 3   shooting                 16861 non-null  float64\n",
            " 4   passing                  16861 non-null  float64\n",
            " 5   dribbling                16861 non-null  float64\n",
            " 6   defending                16861 non-null  float64\n",
            " 7   physic                   16861 non-null  float64\n",
            " 8   attacking_crossing       18944 non-null  int64  \n",
            " 9   attacking_finishing      18944 non-null  int64  \n",
            " 10  attacking_short_passing  18944 non-null  int64  \n",
            " 11  attacking_volleys        18944 non-null  int64  \n",
            " 12  skill_dribbling          18944 non-null  int64  \n",
            " 13  skill_curve              18944 non-null  int64  \n",
            " 14  skill_fk_accuracy        18944 non-null  int64  \n",
            " 15  skill_long_passing       18944 non-null  int64  \n",
            " 16  skill_ball_control       18944 non-null  int64  \n",
            " 17  movement_reactions       18944 non-null  int64  \n",
            " 18  power_shot_power         18944 non-null  int64  \n",
            " 19  power_long_shots         18944 non-null  int64  \n",
            " 20  mentality_aggression     18944 non-null  int64  \n",
            " 21  mentality_interceptions  18944 non-null  int64  \n",
            " 22  mentality_positioning    18944 non-null  int64  \n",
            " 23  mentality_vision         18944 non-null  int64  \n",
            " 24  mentality_penalties      18944 non-null  int64  \n",
            " 25  mentality_composure      18944 non-null  int64  \n",
            " 26  goalkeeping_diving       18944 non-null  int64  \n",
            " 27  goalkeeping_handling     18944 non-null  int64  \n",
            " 28  goalkeeping_kicking      18944 non-null  int64  \n",
            " 29  goalkeeping_positioning  18944 non-null  int64  \n",
            " 30  goalkeeping_reflexes     18944 non-null  int64  \n",
            " 31  goalkeeping_speed        2083 non-null   float64\n",
            "dtypes: float64(6), int64(26)\n",
            "memory usage: 4.6 MB\n"
          ]
        }
      ],
      "source": [
        "#loading the dataset with the best correlated features\n",
        "df = pd.read_csv('/content/drive/MyDrive/Colab Notebooks/players_21.csv', usecols=selected_columns)\n",
        "df.info()"
      ]
    },
    {
      "cell_type": "code",
      "execution_count": 7,
      "metadata": {
        "id": "nRV2jGuXaIzt",
        "colab": {
          "base_uri": "https://localhost:8080/",
          "height": 255
        },
        "outputId": "5c5c7b08-0bdc-49a0-b54f-04ff49d78ba4"
      },
      "outputs": [
        {
          "output_type": "execute_result",
          "data": {
            "text/plain": [
              "   overall  potential  age  shooting  passing  dribbling  defending  physic  \\\n",
              "0       93         93   33      92.0     91.0       95.0       38.0    65.0   \n",
              "1       92         92   35      93.0     81.0       89.0       35.0    77.0   \n",
              "2       91         91   31      91.0     78.0       85.0       43.0    82.0   \n",
              "3       91         91   28      85.0     86.0       94.0       36.0    59.0   \n",
              "4       91         91   29      86.0     93.0       88.0       64.0    78.0   \n",
              "\n",
              "   attacking_crossing  attacking_finishing  ...  mentality_positioning  \\\n",
              "0                  85                   95  ...                     93   \n",
              "1                  84                   95  ...                     95   \n",
              "2                  71                   94  ...                     94   \n",
              "3                  85                   87  ...                     87   \n",
              "4                  94                   82  ...                     88   \n",
              "\n",
              "   mentality_vision  mentality_penalties  mentality_composure  \\\n",
              "0                95                   75                   96   \n",
              "1                82                   84                   95   \n",
              "2                79                   88                   88   \n",
              "3                90                   92                   93   \n",
              "4                94                   84                   91   \n",
              "\n",
              "   goalkeeping_diving  goalkeeping_handling  goalkeeping_kicking  \\\n",
              "0                   6                    11                   15   \n",
              "1                   7                    11                   15   \n",
              "2                  15                     6                   12   \n",
              "3                   9                     9                   15   \n",
              "4                  15                    13                    5   \n",
              "\n",
              "   goalkeeping_positioning  goalkeeping_reflexes  goalkeeping_speed  \n",
              "0                       14                     8                NaN  \n",
              "1                       14                    11                NaN  \n",
              "2                        8                    10                NaN  \n",
              "3                       15                    11                NaN  \n",
              "4                       10                    13                NaN  \n",
              "\n",
              "[5 rows x 32 columns]"
            ],
            "text/html": [
              "\n",
              "  <div id=\"df-12fd2852-6678-44ab-a4ef-338cac67e2b6\" class=\"colab-df-container\">\n",
              "    <div>\n",
              "<style scoped>\n",
              "    .dataframe tbody tr th:only-of-type {\n",
              "        vertical-align: middle;\n",
              "    }\n",
              "\n",
              "    .dataframe tbody tr th {\n",
              "        vertical-align: top;\n",
              "    }\n",
              "\n",
              "    .dataframe thead th {\n",
              "        text-align: right;\n",
              "    }\n",
              "</style>\n",
              "<table border=\"1\" class=\"dataframe\">\n",
              "  <thead>\n",
              "    <tr style=\"text-align: right;\">\n",
              "      <th></th>\n",
              "      <th>overall</th>\n",
              "      <th>potential</th>\n",
              "      <th>age</th>\n",
              "      <th>shooting</th>\n",
              "      <th>passing</th>\n",
              "      <th>dribbling</th>\n",
              "      <th>defending</th>\n",
              "      <th>physic</th>\n",
              "      <th>attacking_crossing</th>\n",
              "      <th>attacking_finishing</th>\n",
              "      <th>...</th>\n",
              "      <th>mentality_positioning</th>\n",
              "      <th>mentality_vision</th>\n",
              "      <th>mentality_penalties</th>\n",
              "      <th>mentality_composure</th>\n",
              "      <th>goalkeeping_diving</th>\n",
              "      <th>goalkeeping_handling</th>\n",
              "      <th>goalkeeping_kicking</th>\n",
              "      <th>goalkeeping_positioning</th>\n",
              "      <th>goalkeeping_reflexes</th>\n",
              "      <th>goalkeeping_speed</th>\n",
              "    </tr>\n",
              "  </thead>\n",
              "  <tbody>\n",
              "    <tr>\n",
              "      <th>0</th>\n",
              "      <td>93</td>\n",
              "      <td>93</td>\n",
              "      <td>33</td>\n",
              "      <td>92.0</td>\n",
              "      <td>91.0</td>\n",
              "      <td>95.0</td>\n",
              "      <td>38.0</td>\n",
              "      <td>65.0</td>\n",
              "      <td>85</td>\n",
              "      <td>95</td>\n",
              "      <td>...</td>\n",
              "      <td>93</td>\n",
              "      <td>95</td>\n",
              "      <td>75</td>\n",
              "      <td>96</td>\n",
              "      <td>6</td>\n",
              "      <td>11</td>\n",
              "      <td>15</td>\n",
              "      <td>14</td>\n",
              "      <td>8</td>\n",
              "      <td>NaN</td>\n",
              "    </tr>\n",
              "    <tr>\n",
              "      <th>1</th>\n",
              "      <td>92</td>\n",
              "      <td>92</td>\n",
              "      <td>35</td>\n",
              "      <td>93.0</td>\n",
              "      <td>81.0</td>\n",
              "      <td>89.0</td>\n",
              "      <td>35.0</td>\n",
              "      <td>77.0</td>\n",
              "      <td>84</td>\n",
              "      <td>95</td>\n",
              "      <td>...</td>\n",
              "      <td>95</td>\n",
              "      <td>82</td>\n",
              "      <td>84</td>\n",
              "      <td>95</td>\n",
              "      <td>7</td>\n",
              "      <td>11</td>\n",
              "      <td>15</td>\n",
              "      <td>14</td>\n",
              "      <td>11</td>\n",
              "      <td>NaN</td>\n",
              "    </tr>\n",
              "    <tr>\n",
              "      <th>2</th>\n",
              "      <td>91</td>\n",
              "      <td>91</td>\n",
              "      <td>31</td>\n",
              "      <td>91.0</td>\n",
              "      <td>78.0</td>\n",
              "      <td>85.0</td>\n",
              "      <td>43.0</td>\n",
              "      <td>82.0</td>\n",
              "      <td>71</td>\n",
              "      <td>94</td>\n",
              "      <td>...</td>\n",
              "      <td>94</td>\n",
              "      <td>79</td>\n",
              "      <td>88</td>\n",
              "      <td>88</td>\n",
              "      <td>15</td>\n",
              "      <td>6</td>\n",
              "      <td>12</td>\n",
              "      <td>8</td>\n",
              "      <td>10</td>\n",
              "      <td>NaN</td>\n",
              "    </tr>\n",
              "    <tr>\n",
              "      <th>3</th>\n",
              "      <td>91</td>\n",
              "      <td>91</td>\n",
              "      <td>28</td>\n",
              "      <td>85.0</td>\n",
              "      <td>86.0</td>\n",
              "      <td>94.0</td>\n",
              "      <td>36.0</td>\n",
              "      <td>59.0</td>\n",
              "      <td>85</td>\n",
              "      <td>87</td>\n",
              "      <td>...</td>\n",
              "      <td>87</td>\n",
              "      <td>90</td>\n",
              "      <td>92</td>\n",
              "      <td>93</td>\n",
              "      <td>9</td>\n",
              "      <td>9</td>\n",
              "      <td>15</td>\n",
              "      <td>15</td>\n",
              "      <td>11</td>\n",
              "      <td>NaN</td>\n",
              "    </tr>\n",
              "    <tr>\n",
              "      <th>4</th>\n",
              "      <td>91</td>\n",
              "      <td>91</td>\n",
              "      <td>29</td>\n",
              "      <td>86.0</td>\n",
              "      <td>93.0</td>\n",
              "      <td>88.0</td>\n",
              "      <td>64.0</td>\n",
              "      <td>78.0</td>\n",
              "      <td>94</td>\n",
              "      <td>82</td>\n",
              "      <td>...</td>\n",
              "      <td>88</td>\n",
              "      <td>94</td>\n",
              "      <td>84</td>\n",
              "      <td>91</td>\n",
              "      <td>15</td>\n",
              "      <td>13</td>\n",
              "      <td>5</td>\n",
              "      <td>10</td>\n",
              "      <td>13</td>\n",
              "      <td>NaN</td>\n",
              "    </tr>\n",
              "  </tbody>\n",
              "</table>\n",
              "<p>5 rows × 32 columns</p>\n",
              "</div>\n",
              "    <div class=\"colab-df-buttons\">\n",
              "\n",
              "  <div class=\"colab-df-container\">\n",
              "    <button class=\"colab-df-convert\" onclick=\"convertToInteractive('df-12fd2852-6678-44ab-a4ef-338cac67e2b6')\"\n",
              "            title=\"Convert this dataframe to an interactive table.\"\n",
              "            style=\"display:none;\">\n",
              "\n",
              "  <svg xmlns=\"http://www.w3.org/2000/svg\" height=\"24px\" viewBox=\"0 -960 960 960\">\n",
              "    <path d=\"M120-120v-720h720v720H120Zm60-500h600v-160H180v160Zm220 220h160v-160H400v160Zm0 220h160v-160H400v160ZM180-400h160v-160H180v160Zm440 0h160v-160H620v160ZM180-180h160v-160H180v160Zm440 0h160v-160H620v160Z\"/>\n",
              "  </svg>\n",
              "    </button>\n",
              "\n",
              "  <style>\n",
              "    .colab-df-container {\n",
              "      display:flex;\n",
              "      gap: 12px;\n",
              "    }\n",
              "\n",
              "    .colab-df-convert {\n",
              "      background-color: #E8F0FE;\n",
              "      border: none;\n",
              "      border-radius: 50%;\n",
              "      cursor: pointer;\n",
              "      display: none;\n",
              "      fill: #1967D2;\n",
              "      height: 32px;\n",
              "      padding: 0 0 0 0;\n",
              "      width: 32px;\n",
              "    }\n",
              "\n",
              "    .colab-df-convert:hover {\n",
              "      background-color: #E2EBFA;\n",
              "      box-shadow: 0px 1px 2px rgba(60, 64, 67, 0.3), 0px 1px 3px 1px rgba(60, 64, 67, 0.15);\n",
              "      fill: #174EA6;\n",
              "    }\n",
              "\n",
              "    .colab-df-buttons div {\n",
              "      margin-bottom: 4px;\n",
              "    }\n",
              "\n",
              "    [theme=dark] .colab-df-convert {\n",
              "      background-color: #3B4455;\n",
              "      fill: #D2E3FC;\n",
              "    }\n",
              "\n",
              "    [theme=dark] .colab-df-convert:hover {\n",
              "      background-color: #434B5C;\n",
              "      box-shadow: 0px 1px 3px 1px rgba(0, 0, 0, 0.15);\n",
              "      filter: drop-shadow(0px 1px 2px rgba(0, 0, 0, 0.3));\n",
              "      fill: #FFFFFF;\n",
              "    }\n",
              "  </style>\n",
              "\n",
              "    <script>\n",
              "      const buttonEl =\n",
              "        document.querySelector('#df-12fd2852-6678-44ab-a4ef-338cac67e2b6 button.colab-df-convert');\n",
              "      buttonEl.style.display =\n",
              "        google.colab.kernel.accessAllowed ? 'block' : 'none';\n",
              "\n",
              "      async function convertToInteractive(key) {\n",
              "        const element = document.querySelector('#df-12fd2852-6678-44ab-a4ef-338cac67e2b6');\n",
              "        const dataTable =\n",
              "          await google.colab.kernel.invokeFunction('convertToInteractive',\n",
              "                                                    [key], {});\n",
              "        if (!dataTable) return;\n",
              "\n",
              "        const docLinkHtml = 'Like what you see? Visit the ' +\n",
              "          '<a target=\"_blank\" href=https://colab.research.google.com/notebooks/data_table.ipynb>data table notebook</a>'\n",
              "          + ' to learn more about interactive tables.';\n",
              "        element.innerHTML = '';\n",
              "        dataTable['output_type'] = 'display_data';\n",
              "        await google.colab.output.renderOutput(dataTable, element);\n",
              "        const docLink = document.createElement('div');\n",
              "        docLink.innerHTML = docLinkHtml;\n",
              "        element.appendChild(docLink);\n",
              "      }\n",
              "    </script>\n",
              "  </div>\n",
              "\n",
              "\n",
              "<div id=\"df-89077435-c414-4c70-9d28-2310e494a2df\">\n",
              "  <button class=\"colab-df-quickchart\" onclick=\"quickchart('df-89077435-c414-4c70-9d28-2310e494a2df')\"\n",
              "            title=\"Suggest charts.\"\n",
              "            style=\"display:none;\">\n",
              "\n",
              "<svg xmlns=\"http://www.w3.org/2000/svg\" height=\"24px\"viewBox=\"0 0 24 24\"\n",
              "     width=\"24px\">\n",
              "    <g>\n",
              "        <path d=\"M19 3H5c-1.1 0-2 .9-2 2v14c0 1.1.9 2 2 2h14c1.1 0 2-.9 2-2V5c0-1.1-.9-2-2-2zM9 17H7v-7h2v7zm4 0h-2V7h2v10zm4 0h-2v-4h2v4z\"/>\n",
              "    </g>\n",
              "</svg>\n",
              "  </button>\n",
              "\n",
              "<style>\n",
              "  .colab-df-quickchart {\n",
              "      --bg-color: #E8F0FE;\n",
              "      --fill-color: #1967D2;\n",
              "      --hover-bg-color: #E2EBFA;\n",
              "      --hover-fill-color: #174EA6;\n",
              "      --disabled-fill-color: #AAA;\n",
              "      --disabled-bg-color: #DDD;\n",
              "  }\n",
              "\n",
              "  [theme=dark] .colab-df-quickchart {\n",
              "      --bg-color: #3B4455;\n",
              "      --fill-color: #D2E3FC;\n",
              "      --hover-bg-color: #434B5C;\n",
              "      --hover-fill-color: #FFFFFF;\n",
              "      --disabled-bg-color: #3B4455;\n",
              "      --disabled-fill-color: #666;\n",
              "  }\n",
              "\n",
              "  .colab-df-quickchart {\n",
              "    background-color: var(--bg-color);\n",
              "    border: none;\n",
              "    border-radius: 50%;\n",
              "    cursor: pointer;\n",
              "    display: none;\n",
              "    fill: var(--fill-color);\n",
              "    height: 32px;\n",
              "    padding: 0;\n",
              "    width: 32px;\n",
              "  }\n",
              "\n",
              "  .colab-df-quickchart:hover {\n",
              "    background-color: var(--hover-bg-color);\n",
              "    box-shadow: 0 1px 2px rgba(60, 64, 67, 0.3), 0 1px 3px 1px rgba(60, 64, 67, 0.15);\n",
              "    fill: var(--button-hover-fill-color);\n",
              "  }\n",
              "\n",
              "  .colab-df-quickchart-complete:disabled,\n",
              "  .colab-df-quickchart-complete:disabled:hover {\n",
              "    background-color: var(--disabled-bg-color);\n",
              "    fill: var(--disabled-fill-color);\n",
              "    box-shadow: none;\n",
              "  }\n",
              "\n",
              "  .colab-df-spinner {\n",
              "    border: 2px solid var(--fill-color);\n",
              "    border-color: transparent;\n",
              "    border-bottom-color: var(--fill-color);\n",
              "    animation:\n",
              "      spin 1s steps(1) infinite;\n",
              "  }\n",
              "\n",
              "  @keyframes spin {\n",
              "    0% {\n",
              "      border-color: transparent;\n",
              "      border-bottom-color: var(--fill-color);\n",
              "      border-left-color: var(--fill-color);\n",
              "    }\n",
              "    20% {\n",
              "      border-color: transparent;\n",
              "      border-left-color: var(--fill-color);\n",
              "      border-top-color: var(--fill-color);\n",
              "    }\n",
              "    30% {\n",
              "      border-color: transparent;\n",
              "      border-left-color: var(--fill-color);\n",
              "      border-top-color: var(--fill-color);\n",
              "      border-right-color: var(--fill-color);\n",
              "    }\n",
              "    40% {\n",
              "      border-color: transparent;\n",
              "      border-right-color: var(--fill-color);\n",
              "      border-top-color: var(--fill-color);\n",
              "    }\n",
              "    60% {\n",
              "      border-color: transparent;\n",
              "      border-right-color: var(--fill-color);\n",
              "    }\n",
              "    80% {\n",
              "      border-color: transparent;\n",
              "      border-right-color: var(--fill-color);\n",
              "      border-bottom-color: var(--fill-color);\n",
              "    }\n",
              "    90% {\n",
              "      border-color: transparent;\n",
              "      border-bottom-color: var(--fill-color);\n",
              "    }\n",
              "  }\n",
              "</style>\n",
              "\n",
              "  <script>\n",
              "    async function quickchart(key) {\n",
              "      const quickchartButtonEl =\n",
              "        document.querySelector('#' + key + ' button');\n",
              "      quickchartButtonEl.disabled = true;  // To prevent multiple clicks.\n",
              "      quickchartButtonEl.classList.add('colab-df-spinner');\n",
              "      try {\n",
              "        const charts = await google.colab.kernel.invokeFunction(\n",
              "            'suggestCharts', [key], {});\n",
              "      } catch (error) {\n",
              "        console.error('Error during call to suggestCharts:', error);\n",
              "      }\n",
              "      quickchartButtonEl.classList.remove('colab-df-spinner');\n",
              "      quickchartButtonEl.classList.add('colab-df-quickchart-complete');\n",
              "    }\n",
              "    (() => {\n",
              "      let quickchartButtonEl =\n",
              "        document.querySelector('#df-89077435-c414-4c70-9d28-2310e494a2df button');\n",
              "      quickchartButtonEl.style.display =\n",
              "        google.colab.kernel.accessAllowed ? 'block' : 'none';\n",
              "    })();\n",
              "  </script>\n",
              "</div>\n",
              "    </div>\n",
              "  </div>\n"
            ]
          },
          "metadata": {},
          "execution_count": 7
        }
      ],
      "source": [
        "df.head()\n"
      ]
    },
    {
      "cell_type": "code",
      "execution_count": 8,
      "metadata": {
        "id": "OntKKWnC-L2p"
      },
      "outputs": [],
      "source": [
        "# replacing nan values with 0\n",
        "df.fillna(0, inplace=True)\n",
        "# combine instances with overall ratings 92 and 93 into a single class '92'\n",
        "df['overall'] = df['overall'].apply(lambda x: 92 if x in [92, 93] else x)\n"
      ]
    },
    {
      "cell_type": "markdown",
      "metadata": {
        "id": "D1mD-WkL2WRO"
      },
      "source": [
        "FEATURE ENGINEERING"
      ]
    },
    {
      "cell_type": "code",
      "execution_count": 9,
      "metadata": {
        "id": "ye8a0hY6FGFZ",
        "colab": {
          "base_uri": "https://localhost:8080/"
        },
        "outputId": "3bbe013b-42b1-49f3-eb4e-27b3c1de6f2f"
      },
      "outputs": [
        {
          "output_type": "stream",
          "name": "stdout",
          "text": [
            "<class 'pandas.core.frame.DataFrame'>\n",
            "RangeIndex: 18944 entries, 0 to 18943\n",
            "Data columns (total 28 columns):\n",
            " #   Column                   Non-Null Count  Dtype  \n",
            "---  ------                   --------------  -----  \n",
            " 0   overall                  18944 non-null  int64  \n",
            " 1   potential                18944 non-null  int64  \n",
            " 2   age                      18944 non-null  int64  \n",
            " 3   passing                  18944 non-null  float64\n",
            " 4   dribbling                18944 non-null  float64\n",
            " 5   defending                18944 non-null  float64\n",
            " 6   physic                   18944 non-null  float64\n",
            " 7   attacking_crossing       18944 non-null  int64  \n",
            " 8   attacking_short_passing  18944 non-null  int64  \n",
            " 9   skill_dribbling          18944 non-null  int64  \n",
            " 10  skill_curve              18944 non-null  int64  \n",
            " 11  skill_fk_accuracy        18944 non-null  int64  \n",
            " 12  skill_long_passing       18944 non-null  int64  \n",
            " 13  skill_ball_control       18944 non-null  int64  \n",
            " 14  movement_reactions       18944 non-null  int64  \n",
            " 15  mentality_aggression     18944 non-null  int64  \n",
            " 16  mentality_interceptions  18944 non-null  int64  \n",
            " 17  mentality_positioning    18944 non-null  int64  \n",
            " 18  mentality_vision         18944 non-null  int64  \n",
            " 19  mentality_penalties      18944 non-null  int64  \n",
            " 20  mentality_composure      18944 non-null  int64  \n",
            " 21  goalkeeping_diving       18944 non-null  int64  \n",
            " 22  goalkeeping_handling     18944 non-null  int64  \n",
            " 23  goalkeeping_kicking      18944 non-null  int64  \n",
            " 24  goalkeeping_positioning  18944 non-null  int64  \n",
            " 25  goalkeeping_reflexes     18944 non-null  int64  \n",
            " 26  goalkeeping_speed        18944 non-null  float64\n",
            " 27  shooting_skills          18944 non-null  float64\n",
            "dtypes: float64(6), int64(22)\n",
            "memory usage: 4.0 MB\n"
          ]
        }
      ],
      "source": [
        "# we combined multiply features with similar attributes to form one feature.\n",
        "# this helped us decrease the mean absolute error of our model when testing\n",
        "\n",
        "shooting_attributes = ['shooting', 'power_shot_power', 'power_long_shots', 'attacking_volleys','attacking_finishing']\n",
        "\n",
        "df['shooting_skills'] = df[shooting_attributes].mean(axis=1)\n",
        "\n",
        "df.drop(columns=shooting_attributes, inplace=True)\n",
        "\n",
        "df.info()"
      ]
    },
    {
      "cell_type": "code",
      "execution_count": 10,
      "metadata": {
        "id": "3NbhgETMryt9",
        "colab": {
          "base_uri": "https://localhost:8080/"
        },
        "outputId": "abc681cc-57b7-4af7-e1b7-f461879376b8"
      },
      "outputs": [
        {
          "output_type": "stream",
          "name": "stdout",
          "text": [
            "<class 'pandas.core.frame.DataFrame'>\n",
            "RangeIndex: 18944 entries, 0 to 18943\n",
            "Data columns (total 23 columns):\n",
            " #   Column                   Non-Null Count  Dtype  \n",
            "---  ------                   --------------  -----  \n",
            " 0   overall                  18944 non-null  int64  \n",
            " 1   potential                18944 non-null  int64  \n",
            " 2   age                      18944 non-null  int64  \n",
            " 3   passing                  18944 non-null  float64\n",
            " 4   dribbling                18944 non-null  float64\n",
            " 5   defending                18944 non-null  float64\n",
            " 6   physic                   18944 non-null  float64\n",
            " 7   attacking_crossing       18944 non-null  int64  \n",
            " 8   attacking_short_passing  18944 non-null  int64  \n",
            " 9   skill_dribbling          18944 non-null  int64  \n",
            " 10  skill_curve              18944 non-null  int64  \n",
            " 11  skill_fk_accuracy        18944 non-null  int64  \n",
            " 12  skill_long_passing       18944 non-null  int64  \n",
            " 13  skill_ball_control       18944 non-null  int64  \n",
            " 14  movement_reactions       18944 non-null  int64  \n",
            " 15  goalkeeping_diving       18944 non-null  int64  \n",
            " 16  goalkeeping_handling     18944 non-null  int64  \n",
            " 17  goalkeeping_kicking      18944 non-null  int64  \n",
            " 18  goalkeeping_positioning  18944 non-null  int64  \n",
            " 19  goalkeeping_reflexes     18944 non-null  int64  \n",
            " 20  goalkeeping_speed        18944 non-null  float64\n",
            " 21  shooting_skills          18944 non-null  float64\n",
            " 22  mentality                18944 non-null  float64\n",
            "dtypes: float64(7), int64(16)\n",
            "memory usage: 3.3 MB\n"
          ]
        }
      ],
      "source": [
        "# we combined multiply features with similar attributes to form one feature.\n",
        "# this helped us decrease the mean absolute error of our model when testing\n",
        "mentality_attributes = ['mentality_aggression', 'mentality_interceptions', 'mentality_positioning',\n",
        "                        'mentality_vision', 'mentality_penalties', 'mentality_composure']\n",
        "imputer = SimpleImputer(strategy='mean')\n",
        "df[mentality_attributes] = imputer.fit_transform(df[mentality_attributes])\n",
        "\n",
        "df['mentality'] = df[mentality_attributes].mean(axis=1)\n",
        "\n",
        "df.drop(columns=mentality_attributes, inplace=True)\n",
        "\n",
        "df.info()"
      ]
    },
    {
      "cell_type": "code",
      "execution_count": 11,
      "metadata": {
        "id": "NbGlc-5pZNJl",
        "colab": {
          "base_uri": "https://localhost:8080/"
        },
        "outputId": "1581157d-f6fe-46ed-b09d-8bdff9df2049"
      },
      "outputs": [
        {
          "output_type": "stream",
          "name": "stdout",
          "text": [
            "<class 'pandas.core.frame.DataFrame'>\n",
            "RangeIndex: 18944 entries, 0 to 18943\n",
            "Data columns (total 19 columns):\n",
            " #   Column                   Non-Null Count  Dtype  \n",
            "---  ------                   --------------  -----  \n",
            " 0   overall                  18944 non-null  int64  \n",
            " 1   potential                18944 non-null  int64  \n",
            " 2   age                      18944 non-null  int64  \n",
            " 3   passing                  18944 non-null  float64\n",
            " 4   dribbling                18944 non-null  float64\n",
            " 5   defending                18944 non-null  float64\n",
            " 6   physic                   18944 non-null  float64\n",
            " 7   attacking_crossing       18944 non-null  int64  \n",
            " 8   attacking_short_passing  18944 non-null  int64  \n",
            " 9   movement_reactions       18944 non-null  int64  \n",
            " 10  goalkeeping_diving       18944 non-null  int64  \n",
            " 11  goalkeeping_handling     18944 non-null  int64  \n",
            " 12  goalkeeping_kicking      18944 non-null  int64  \n",
            " 13  goalkeeping_positioning  18944 non-null  int64  \n",
            " 14  goalkeeping_reflexes     18944 non-null  int64  \n",
            " 15  goalkeeping_speed        18944 non-null  float64\n",
            " 16  shooting_skills          18944 non-null  float64\n",
            " 17  mentality                18944 non-null  float64\n",
            " 18  technical_skills         18944 non-null  float64\n",
            "dtypes: float64(8), int64(11)\n",
            "memory usage: 2.7 MB\n"
          ]
        }
      ],
      "source": [
        "# we combined multiply features with similar attributes to form one feature.\n",
        "# this helped us decrease the mean absolute error of our model when testing\n",
        "\n",
        "skill_attributes = ['skill_long_passing', 'skill_ball_control', 'skill_curve', 'skill_fk_accuracy', 'skill_dribbling']\n",
        "\n",
        "df['technical_skills'] = df[skill_attributes].mean(axis=1)\n",
        "\n",
        "df.drop(columns=skill_attributes, inplace=True)\n",
        "\n",
        "df.info()"
      ]
    },
    {
      "cell_type": "code",
      "execution_count": 12,
      "metadata": {
        "id": "kRTfv2TRrEPB",
        "colab": {
          "base_uri": "https://localhost:8080/"
        },
        "outputId": "c38004e9-1017-442d-a835-3452ec20822e"
      },
      "outputs": [
        {
          "output_type": "stream",
          "name": "stdout",
          "text": [
            "<class 'pandas.core.frame.DataFrame'>\n",
            "RangeIndex: 18944 entries, 0 to 18943\n",
            "Data columns (total 14 columns):\n",
            " #   Column                   Non-Null Count  Dtype  \n",
            "---  ------                   --------------  -----  \n",
            " 0   overall                  18944 non-null  int64  \n",
            " 1   potential                18944 non-null  int64  \n",
            " 2   age                      18944 non-null  int64  \n",
            " 3   passing                  18944 non-null  int64  \n",
            " 4   dribbling                18944 non-null  int64  \n",
            " 5   defending                18944 non-null  int64  \n",
            " 6   physic                   18944 non-null  int64  \n",
            " 7   attacking_crossing       18944 non-null  int64  \n",
            " 8   attacking_short_passing  18944 non-null  int64  \n",
            " 9   movement_reactions       18944 non-null  int64  \n",
            " 10  shooting_skills          18944 non-null  int64  \n",
            " 11  mentality                18944 non-null  int64  \n",
            " 12  technical_skills         18944 non-null  int64  \n",
            " 13  goalkeeping_ability      18944 non-null  float64\n",
            "dtypes: float64(1), int64(13)\n",
            "memory usage: 2.0 MB\n"
          ]
        }
      ],
      "source": [
        "# transform float values to int type for easier manipulation\n",
        "df= df.astype(int)\n",
        "# we combined multiply features with similar attributes to form one feature.\n",
        "# this helped us decrease the mean absolute error of our model when testing\n",
        "\n",
        "goalkeeping_attributes = ['goalkeeping_diving', 'goalkeeping_handling', 'goalkeeping_kicking',\n",
        "                          'goalkeeping_positioning', 'goalkeeping_reflexes', 'goalkeeping_speed']\n",
        "\n",
        "imputer = SimpleImputer(strategy='mean')\n",
        "df[goalkeeping_attributes] = imputer.fit_transform(df[goalkeeping_attributes])\n",
        "\n",
        "df['goalkeeping_ability'] = df[goalkeeping_attributes].mean(axis=1)\n",
        "\n",
        "df.drop(columns=goalkeeping_attributes, inplace=True)\n",
        "\n",
        "df.info()\n"
      ]
    },
    {
      "cell_type": "code",
      "execution_count": 13,
      "metadata": {
        "id": "P5yGhlYcAwvW",
        "colab": {
          "base_uri": "https://localhost:8080/"
        },
        "outputId": "83d1b97b-6433-4bd1-b644-7208af4ea816"
      },
      "outputs": [
        {
          "output_type": "stream",
          "name": "stdout",
          "text": [
            "<class 'pandas.core.frame.DataFrame'>\n",
            "RangeIndex: 18944 entries, 0 to 18943\n",
            "Data columns (total 14 columns):\n",
            " #   Column                   Non-Null Count  Dtype  \n",
            "---  ------                   --------------  -----  \n",
            " 0   overall                  18944 non-null  int64  \n",
            " 1   potential                18944 non-null  int64  \n",
            " 2   age                      18944 non-null  int64  \n",
            " 3   passing                  18944 non-null  int64  \n",
            " 4   dribbling                18944 non-null  int64  \n",
            " 5   defending                18944 non-null  int64  \n",
            " 6   physic                   18944 non-null  int64  \n",
            " 7   attacking_crossing       18944 non-null  int64  \n",
            " 8   attacking_short_passing  18944 non-null  int64  \n",
            " 9   movement_reactions       18944 non-null  int64  \n",
            " 10  shooting_skills          18944 non-null  int64  \n",
            " 11  mentality                18944 non-null  int64  \n",
            " 12  technical_skills         18944 non-null  int64  \n",
            " 13  goalkeeping_ability      18944 non-null  float64\n",
            "dtypes: float64(1), int64(13)\n",
            "memory usage: 2.0 MB\n"
          ]
        }
      ],
      "source": [
        "df.info()"
      ]
    },
    {
      "cell_type": "code",
      "execution_count": 14,
      "metadata": {
        "id": "DaN3IHh0TEQC"
      },
      "outputs": [],
      "source": [
        "df= df.astype(int)"
      ]
    },
    {
      "cell_type": "code",
      "execution_count": 15,
      "metadata": {
        "id": "Kfovho5ETTOO",
        "colab": {
          "base_uri": "https://localhost:8080/"
        },
        "outputId": "103f9783-903c-472c-c32d-bfa948bd03e8"
      },
      "outputs": [
        {
          "output_type": "stream",
          "name": "stdout",
          "text": [
            "<class 'pandas.core.frame.DataFrame'>\n",
            "RangeIndex: 18944 entries, 0 to 18943\n",
            "Data columns (total 14 columns):\n",
            " #   Column                   Non-Null Count  Dtype\n",
            "---  ------                   --------------  -----\n",
            " 0   overall                  18944 non-null  int64\n",
            " 1   potential                18944 non-null  int64\n",
            " 2   age                      18944 non-null  int64\n",
            " 3   passing                  18944 non-null  int64\n",
            " 4   dribbling                18944 non-null  int64\n",
            " 5   defending                18944 non-null  int64\n",
            " 6   physic                   18944 non-null  int64\n",
            " 7   attacking_crossing       18944 non-null  int64\n",
            " 8   attacking_short_passing  18944 non-null  int64\n",
            " 9   movement_reactions       18944 non-null  int64\n",
            " 10  shooting_skills          18944 non-null  int64\n",
            " 11  mentality                18944 non-null  int64\n",
            " 12  technical_skills         18944 non-null  int64\n",
            " 13  goalkeeping_ability      18944 non-null  int64\n",
            "dtypes: int64(14)\n",
            "memory usage: 2.0 MB\n"
          ]
        }
      ],
      "source": [
        "df.info()"
      ]
    },
    {
      "cell_type": "markdown",
      "metadata": {
        "id": "8rjJuMgY3OPz"
      },
      "source": [
        "TRAINING"
      ]
    },
    {
      "cell_type": "code",
      "execution_count": 16,
      "metadata": {
        "id": "rLaY76qnfhte"
      },
      "outputs": [],
      "source": [
        "# extracting the target variable 'overall' (player's overall rating) and the feature variables from the DataFrame.\n",
        "y = df['overall']  # target variable representing player's overall rating (Y values)\n",
        "X = df.drop('overall', axis=1)  # feature variables excluding the 'overall' column (X values)"
      ]
    },
    {
      "cell_type": "code",
      "execution_count": 17,
      "metadata": {
        "id": "upC-df3D7-UU"
      },
      "outputs": [],
      "source": [
        "# importing the StandardScaler module from sklearn.preprocessing package.\n",
        "from sklearn.preprocessing import StandardScaler\n",
        "\n",
        "# initializing the StandardScaler object.\n",
        "sc = StandardScaler()"
      ]
    },
    {
      "cell_type": "code",
      "execution_count": 18,
      "metadata": {
        "id": "A0SonTQC8EL-"
      },
      "outputs": [],
      "source": [
        "# applying the StandardScaler to transform the feature variables (X) into a standardized form.\n",
        "scaled = sc.fit_transform(X)\n"
      ]
    },
    {
      "cell_type": "code",
      "execution_count": 19,
      "metadata": {
        "id": "V4w02H8F8J1J"
      },
      "outputs": [],
      "source": [
        "#creating a dataframe for feature variables\n",
        "X=pd.DataFrame(scaled, columns=X.columns)"
      ]
    },
    {
      "cell_type": "code",
      "execution_count": 20,
      "metadata": {
        "id": "KduF5LcQN9eo",
        "colab": {
          "base_uri": "https://localhost:8080/"
        },
        "outputId": "21ab381b-c7cf-4760-de52-764022d41ff6"
      },
      "outputs": [
        {
          "output_type": "execute_result",
          "data": {
            "text/plain": [
              "0    92\n",
              "1    92\n",
              "2    91\n",
              "3    91\n",
              "4    91\n",
              "Name: overall, dtype: int64"
            ]
          },
          "metadata": {},
          "execution_count": 20
        }
      ],
      "source": [
        "y.head()"
      ]
    },
    {
      "cell_type": "code",
      "execution_count": 21,
      "metadata": {
        "id": "g1e7ejLyOB-c",
        "colab": {
          "base_uri": "https://localhost:8080/"
        },
        "outputId": "a5471f9b-1f46-4746-e2c5-9a2ca28b122b"
      },
      "outputs": [
        {
          "output_type": "stream",
          "name": "stdout",
          "text": [
            "<class 'pandas.core.frame.DataFrame'>\n",
            "RangeIndex: 18944 entries, 0 to 18943\n",
            "Data columns (total 13 columns):\n",
            " #   Column                   Non-Null Count  Dtype  \n",
            "---  ------                   --------------  -----  \n",
            " 0   potential                18944 non-null  float64\n",
            " 1   age                      18944 non-null  float64\n",
            " 2   passing                  18944 non-null  float64\n",
            " 3   dribbling                18944 non-null  float64\n",
            " 4   defending                18944 non-null  float64\n",
            " 5   physic                   18944 non-null  float64\n",
            " 6   attacking_crossing       18944 non-null  float64\n",
            " 7   attacking_short_passing  18944 non-null  float64\n",
            " 8   movement_reactions       18944 non-null  float64\n",
            " 9   shooting_skills          18944 non-null  float64\n",
            " 10  mentality                18944 non-null  float64\n",
            " 11  technical_skills         18944 non-null  float64\n",
            " 12  goalkeeping_ability      18944 non-null  float64\n",
            "dtypes: float64(13)\n",
            "memory usage: 1.9 MB\n"
          ]
        }
      ],
      "source": [
        "X.head()\n",
        "X.info()"
      ]
    },
    {
      "cell_type": "code",
      "execution_count": 22,
      "metadata": {
        "id": "nldCaTk2PbFz",
        "colab": {
          "base_uri": "https://localhost:8080/"
        },
        "outputId": "ca7dbd95-a42b-4907-80a3-5db623a14534"
      },
      "outputs": [
        {
          "output_type": "execute_result",
          "data": {
            "text/plain": [
              "65    1168\n",
              "66    1139\n",
              "64    1135\n",
              "67    1112\n",
              "63    1078\n",
              "68     974\n",
              "69     943\n",
              "62     941\n",
              "70     885\n",
              "61     802\n",
              "60     775\n",
              "72     746\n",
              "71     707\n",
              "59     612\n",
              "73     571\n",
              "58     552\n",
              "75     543\n",
              "57     467\n",
              "74     447\n",
              "56     379\n",
              "55     333\n",
              "76     321\n",
              "77     279\n",
              "54     250\n",
              "53     246\n",
              "78     215\n",
              "52     208\n",
              "51     180\n",
              "79     180\n",
              "80     137\n",
              "50     127\n",
              "81      94\n",
              "83      72\n",
              "49      67\n",
              "82      60\n",
              "48      43\n",
              "84      41\n",
              "85      37\n",
              "87      20\n",
              "47      16\n",
              "86      14\n",
              "88      10\n",
              "89       6\n",
              "90       6\n",
              "91       4\n",
              "92       2\n",
              "Name: overall, dtype: int64"
            ]
          },
          "metadata": {},
          "execution_count": 22
        }
      ],
      "source": [
        "y.value_counts()"
      ]
    },
    {
      "cell_type": "code",
      "execution_count": 23,
      "metadata": {
        "id": "t-Bk9k-ROQP6",
        "colab": {
          "base_uri": "https://localhost:8080/"
        },
        "outputId": "f027963c-4432-4961-e590-a296c0017451"
      },
      "outputs": [
        {
          "output_type": "execute_result",
          "data": {
            "text/plain": [
              "(17049, 13)"
            ]
          },
          "metadata": {},
          "execution_count": 23
        }
      ],
      "source": [
        "# splitting the dataset into training and testing sets using train_test_split function.\n",
        "# Xtrain: features for training, Xtest: features for testing, Ytrain: target values for training, Ytest: target values for testing.\n",
        "Xtrain, Xtest, Ytrain, Ytest = train_test_split(X, y, test_size=0.1, random_state=42, stratify=y)\n",
        "\n",
        "# displaying the shape of the training feature set (Xtrain).\n",
        "Xtrain.shape\n"
      ]
    },
    {
      "cell_type": "markdown",
      "source": [
        "**TRAINING**"
      ],
      "metadata": {
        "id": "PJ5r6ceDhJE7"
      }
    },
    {
      "cell_type": "markdown",
      "metadata": {
        "id": "oL8tVwUy3a9E"
      },
      "source": [
        "USING RANDOM FOREST REGRESSOR"
      ]
    },
    {
      "cell_type": "code",
      "execution_count": 24,
      "metadata": {
        "id": "7-dmbJvGP4R8"
      },
      "outputs": [],
      "source": [
        "# importing the RandomForestRegressor module from the sklearn.ensemble package.\n",
        "from sklearn.ensemble import RandomForestRegressor"
      ]
    },
    {
      "cell_type": "code",
      "execution_count": 25,
      "metadata": {
        "id": "Gh4maU2zP8Kc"
      },
      "outputs": [],
      "source": [
        "# initializing the RandomForestRegressor model\n",
        "rf=RandomForestRegressor()"
      ]
    },
    {
      "cell_type": "code",
      "execution_count": 26,
      "metadata": {
        "id": "pkea3slIQXHq",
        "colab": {
          "base_uri": "https://localhost:8080/",
          "height": 74
        },
        "outputId": "444eed82-b8a0-4280-b701-da6d76b42448"
      },
      "outputs": [
        {
          "output_type": "execute_result",
          "data": {
            "text/plain": [
              "RandomForestRegressor()"
            ],
            "text/html": [
              "<style>#sk-container-id-1 {color: black;background-color: white;}#sk-container-id-1 pre{padding: 0;}#sk-container-id-1 div.sk-toggleable {background-color: white;}#sk-container-id-1 label.sk-toggleable__label {cursor: pointer;display: block;width: 100%;margin-bottom: 0;padding: 0.3em;box-sizing: border-box;text-align: center;}#sk-container-id-1 label.sk-toggleable__label-arrow:before {content: \"▸\";float: left;margin-right: 0.25em;color: #696969;}#sk-container-id-1 label.sk-toggleable__label-arrow:hover:before {color: black;}#sk-container-id-1 div.sk-estimator:hover label.sk-toggleable__label-arrow:before {color: black;}#sk-container-id-1 div.sk-toggleable__content {max-height: 0;max-width: 0;overflow: hidden;text-align: left;background-color: #f0f8ff;}#sk-container-id-1 div.sk-toggleable__content pre {margin: 0.2em;color: black;border-radius: 0.25em;background-color: #f0f8ff;}#sk-container-id-1 input.sk-toggleable__control:checked~div.sk-toggleable__content {max-height: 200px;max-width: 100%;overflow: auto;}#sk-container-id-1 input.sk-toggleable__control:checked~label.sk-toggleable__label-arrow:before {content: \"▾\";}#sk-container-id-1 div.sk-estimator input.sk-toggleable__control:checked~label.sk-toggleable__label {background-color: #d4ebff;}#sk-container-id-1 div.sk-label input.sk-toggleable__control:checked~label.sk-toggleable__label {background-color: #d4ebff;}#sk-container-id-1 input.sk-hidden--visually {border: 0;clip: rect(1px 1px 1px 1px);clip: rect(1px, 1px, 1px, 1px);height: 1px;margin: -1px;overflow: hidden;padding: 0;position: absolute;width: 1px;}#sk-container-id-1 div.sk-estimator {font-family: monospace;background-color: #f0f8ff;border: 1px dotted black;border-radius: 0.25em;box-sizing: border-box;margin-bottom: 0.5em;}#sk-container-id-1 div.sk-estimator:hover {background-color: #d4ebff;}#sk-container-id-1 div.sk-parallel-item::after {content: \"\";width: 100%;border-bottom: 1px solid gray;flex-grow: 1;}#sk-container-id-1 div.sk-label:hover label.sk-toggleable__label {background-color: #d4ebff;}#sk-container-id-1 div.sk-serial::before {content: \"\";position: absolute;border-left: 1px solid gray;box-sizing: border-box;top: 0;bottom: 0;left: 50%;z-index: 0;}#sk-container-id-1 div.sk-serial {display: flex;flex-direction: column;align-items: center;background-color: white;padding-right: 0.2em;padding-left: 0.2em;position: relative;}#sk-container-id-1 div.sk-item {position: relative;z-index: 1;}#sk-container-id-1 div.sk-parallel {display: flex;align-items: stretch;justify-content: center;background-color: white;position: relative;}#sk-container-id-1 div.sk-item::before, #sk-container-id-1 div.sk-parallel-item::before {content: \"\";position: absolute;border-left: 1px solid gray;box-sizing: border-box;top: 0;bottom: 0;left: 50%;z-index: -1;}#sk-container-id-1 div.sk-parallel-item {display: flex;flex-direction: column;z-index: 1;position: relative;background-color: white;}#sk-container-id-1 div.sk-parallel-item:first-child::after {align-self: flex-end;width: 50%;}#sk-container-id-1 div.sk-parallel-item:last-child::after {align-self: flex-start;width: 50%;}#sk-container-id-1 div.sk-parallel-item:only-child::after {width: 0;}#sk-container-id-1 div.sk-dashed-wrapped {border: 1px dashed gray;margin: 0 0.4em 0.5em 0.4em;box-sizing: border-box;padding-bottom: 0.4em;background-color: white;}#sk-container-id-1 div.sk-label label {font-family: monospace;font-weight: bold;display: inline-block;line-height: 1.2em;}#sk-container-id-1 div.sk-label-container {text-align: center;}#sk-container-id-1 div.sk-container {/* jupyter's `normalize.less` sets `[hidden] { display: none; }` but bootstrap.min.css set `[hidden] { display: none !important; }` so we also need the `!important` here to be able to override the default hidden behavior on the sphinx rendered scikit-learn.org. See: https://github.com/scikit-learn/scikit-learn/issues/21755 */display: inline-block !important;position: relative;}#sk-container-id-1 div.sk-text-repr-fallback {display: none;}</style><div id=\"sk-container-id-1\" class=\"sk-top-container\"><div class=\"sk-text-repr-fallback\"><pre>RandomForestRegressor()</pre><b>In a Jupyter environment, please rerun this cell to show the HTML representation or trust the notebook. <br />On GitHub, the HTML representation is unable to render, please try loading this page with nbviewer.org.</b></div><div class=\"sk-container\" hidden><div class=\"sk-item\"><div class=\"sk-estimator sk-toggleable\"><input class=\"sk-toggleable__control sk-hidden--visually\" id=\"sk-estimator-id-1\" type=\"checkbox\" checked><label for=\"sk-estimator-id-1\" class=\"sk-toggleable__label sk-toggleable__label-arrow\">RandomForestRegressor</label><div class=\"sk-toggleable__content\"><pre>RandomForestRegressor()</pre></div></div></div></div></div>"
            ]
          },
          "metadata": {},
          "execution_count": 26
        }
      ],
      "source": [
        "# training the model using the training data (Xtrain and Ytrain)\n",
        "rf.fit(Xtrain, Ytrain)"
      ]
    },
    {
      "cell_type": "code",
      "execution_count": 27,
      "metadata": {
        "id": "9JyLfakiTPVe",
        "colab": {
          "base_uri": "https://localhost:8080/"
        },
        "outputId": "99049b43-f7ea-46b1-d30e-9b9ff9a76b87"
      },
      "outputs": [
        {
          "output_type": "execute_result",
          "data": {
            "text/plain": [
              "array([51.51, 64.54, 70.  , ..., 69.99, 55.21, 65.39])"
            ]
          },
          "metadata": {},
          "execution_count": 27
        }
      ],
      "source": [
        "# making predictions on the test data (Xtest) using the trained model.\n",
        "y_pred=rf.predict(Xtest)\n",
        "y_pred"
      ]
    },
    {
      "cell_type": "code",
      "execution_count": 28,
      "metadata": {
        "id": "NTE6K_wITSsD",
        "colab": {
          "base_uri": "https://localhost:8080/"
        },
        "outputId": "94ccb8bb-87ad-42f7-97f1-0b415a188dc9"
      },
      "outputs": [
        {
          "output_type": "execute_result",
          "data": {
            "text/plain": [
              "0.7472664907651715"
            ]
          },
          "metadata": {},
          "execution_count": 28
        }
      ],
      "source": [
        "# calculating the mean absolute error between the predicted values (y_pred) and the actual values (Ytest).\n",
        "mean_absolute_error(y_pred,Ytest)"
      ]
    },
    {
      "cell_type": "markdown",
      "metadata": {
        "id": "tm2X55Wd3jl3"
      },
      "source": [
        "USING XGB_REGRESSOR"
      ]
    },
    {
      "cell_type": "code",
      "execution_count": 29,
      "metadata": {
        "id": "FOPgqCEiiGhm"
      },
      "outputs": [],
      "source": [
        "# importing the XGBRegressor module from the xgboost package.\n",
        "from xgboost import XGBRegressor"
      ]
    },
    {
      "cell_type": "code",
      "execution_count": 30,
      "metadata": {
        "id": "DNOpb5Omv2Hg"
      },
      "outputs": [],
      "source": [
        "# initializing the XGBRegressor model.\n",
        "xgb_model = XGBRegressor()"
      ]
    },
    {
      "cell_type": "code",
      "execution_count": 31,
      "metadata": {
        "id": "UhDn-o41iynf",
        "colab": {
          "base_uri": "https://localhost:8080/"
        },
        "outputId": "847a23d1-256d-4ba2-f8fa-fba10c34cf55"
      },
      "outputs": [
        {
          "output_type": "execute_result",
          "data": {
            "text/plain": [
              "0.7781703073305316"
            ]
          },
          "metadata": {},
          "execution_count": 31
        }
      ],
      "source": [
        "# training the XGBRegressor model using the training data (Xtrain and Ytrain).\n",
        "xgb_model.fit(Xtrain, Ytrain)\n",
        "\n",
        "# making predictions on the test data (Xtest) using the trained XGBRegressor model.\n",
        "y_pred_xgb = xgb_model.predict(Xtest)\n",
        "\n",
        "# calculating the mean absolute error between the XGBRegressor predicted values (y_pred_xgb) and the actual values (Ytest).\n",
        "mae_xgb = mean_absolute_error(y_pred_xgb, Ytest)\n",
        "mae_xgb"
      ]
    },
    {
      "cell_type": "markdown",
      "metadata": {
        "id": "nrhUED0T3oSJ"
      },
      "source": [
        "USING GRADIENT_BOOSTING_REGRESSOR"
      ]
    },
    {
      "cell_type": "code",
      "execution_count": 32,
      "metadata": {
        "id": "kTHaU1K5ocyt",
        "colab": {
          "base_uri": "https://localhost:8080/"
        },
        "outputId": "960e7e74-45c2-48c5-dcd8-11a1749860e5"
      },
      "outputs": [
        {
          "output_type": "execute_result",
          "data": {
            "text/plain": [
              "1.001943178200062"
            ]
          },
          "metadata": {},
          "execution_count": 32
        }
      ],
      "source": [
        "# importing the GradientBoostingRegressor module from the sklearn.ensemble package.\n",
        "from sklearn.ensemble import GradientBoostingRegressor\n",
        "\n",
        "# initializing the GradientBoostingRegressor model.\n",
        "gb_model = GradientBoostingRegressor()\n",
        "\n",
        "# training the GradientBoostingRegressor model using the training data (Xtrain and Ytrain).\n",
        "gb_model.fit(Xtrain, Ytrain)\n",
        "\n",
        "# making predictions on the test data (Xtest) using the trained GradientBoostingRegressor model.\n",
        "y_pred_gb = gb_model.predict(Xtest)\n",
        "\n",
        "# calculating the mean absolute error between the GradientBoostingRegressor predicted values (y_pred_gb) and the actual values (Ytest).\n",
        "mae_gb = mean_absolute_error(y_pred_gb, Ytest)\n",
        "mae_gb\n"
      ]
    },
    {
      "cell_type": "markdown",
      "metadata": {
        "id": "l_eWKnHK7d0d"
      },
      "source": [
        "CROSS-VALIDATION USING GRID SEARCH"
      ]
    },
    {
      "cell_type": "code",
      "execution_count": 33,
      "metadata": {
        "id": "spDRBPhV7cy_"
      },
      "outputs": [],
      "source": [
        "from sklearn.model_selection import GridSearchCV\n"
      ]
    },
    {
      "cell_type": "code",
      "execution_count": 34,
      "metadata": {
        "id": "41JEIndd73C9"
      },
      "outputs": [],
      "source": [
        "# these are the hyperparameters for Random Forest\n",
        "rf_params = {\n",
        "    'n_estimators': [100, 200, 300],\n",
        "    'max_depth': [None, 10, 20],\n",
        "    'min_samples_split': [2, 5, 10]\n",
        "}\n",
        "\n",
        "# these are the hyperparameters for XGBoost\n",
        "xgb_params = {\n",
        "    'n_estimators': [100, 200, 300],\n",
        "    'max_depth': [3, 5, 7],\n",
        "    'learning_rate': [0.1, 0.01, 0.001]\n",
        "}\n"
      ]
    },
    {
      "cell_type": "code",
      "execution_count": 35,
      "metadata": {
        "id": "UOQvgNx479Po"
      },
      "outputs": [],
      "source": [
        "# performed a grid search with cross-validation to find the best RandomForestRegressor model using negative mean absolute error as the scoring metric.\n",
        "grid_rf = GridSearchCV(estimator=RandomForestRegressor(),\n",
        "                       param_grid=rf_params,\n",
        "                       scoring='neg_mean_absolute_error',\n",
        "                       cv=5)\n",
        "grid_rf.fit(Xtrain, Ytrain)\n",
        "best_rf = grid_rf.best_estimator_\n",
        "\n"
      ]
    },
    {
      "cell_type": "code",
      "execution_count": 36,
      "metadata": {
        "id": "2z0H6fpx8HE_"
      },
      "outputs": [],
      "source": [
        "# perform grid search with cross-validation to find the best XGBRegressor model using negative mean absolute error as the scoring metric.\n",
        "grid_xgb = GridSearchCV(estimator=XGBRegressor(),\n",
        "                        param_grid=xgb_params,\n",
        "                        scoring='neg_mean_absolute_error',\n",
        "                        cv=5)\n",
        "grid_xgb.fit(Xtrain, Ytrain)\n",
        "best_xgb = grid_xgb.best_estimator_\n",
        "\n"
      ]
    },
    {
      "cell_type": "code",
      "execution_count": 37,
      "metadata": {
        "id": "1RqRyG1B8KyK",
        "colab": {
          "base_uri": "https://localhost:8080/"
        },
        "outputId": "978cf46c-dcea-4978-a319-a209fcd2b8f2"
      },
      "outputs": [
        {
          "output_type": "stream",
          "name": "stdout",
          "text": [
            "Mean Absolute Error for Best Random Forest Model:  0.7330527704485489\n",
            "Mean Absolute Error for Best XGBoost Model:  0.6915606637114271\n"
          ]
        }
      ],
      "source": [
        "y_pred_best_rf = best_rf.predict(Xtest)\n",
        "mae_best_rf = mean_absolute_error(y_pred_best_rf, Ytest)\n",
        "print(\"Mean Absolute Error for Best Random Forest Model: \", mae_best_rf)\n",
        "\n",
        "y_pred_best_xgb = best_xgb.predict(Xtest)\n",
        "mae_best_xgb = mean_absolute_error(y_pred_best_xgb, Ytest)\n",
        "print(\"Mean Absolute Error for Best XGBoost Model: \", mae_best_xgb)\n"
      ]
    },
    {
      "cell_type": "markdown",
      "metadata": {
        "id": "F4zHi2n_334r"
      },
      "source": [
        "ENSEMBLE MODEL USING ALL TWO MODELS (RF & XGB) ABOVE\n"
      ]
    },
    {
      "cell_type": "code",
      "execution_count": 38,
      "metadata": {
        "id": "psUHbYiZzk5S"
      },
      "outputs": [],
      "source": [
        "#for the ensemble model we used only the RF and XGB because the gradient boosting regressor increase the mean absolute error and hence the ensemble model needed optimization\n",
        "from sklearn.ensemble import VotingRegressor\n",
        "\n",
        "ensemble_model = VotingRegressor(estimators=[('rf', rf), ('xgb', xgb_model)])\n",
        "\n",
        "# Training the ensemble model\n",
        "ensemble_model.fit(Xtrain, Ytrain)\n",
        "\n",
        "# Making predictions using the ensemble model\n",
        "ensemble_predictions = ensemble_model.predict(Xtest)"
      ]
    },
    {
      "cell_type": "markdown",
      "metadata": {
        "id": "Z3EVSGPH4Wr_"
      },
      "source": [
        "EVALUATION"
      ]
    },
    {
      "cell_type": "code",
      "execution_count": 39,
      "metadata": {
        "id": "0jWdBEhO4UC6",
        "colab": {
          "base_uri": "https://localhost:8080/"
        },
        "outputId": "021c5bb6-d081-4989-9546-df2755c6ec24"
      },
      "outputs": [
        {
          "output_type": "stream",
          "name": "stdout",
          "text": [
            "Mean Absolute Error for Random Forest:  0.7472664907651715\n",
            "Mean Absolute Error for XGBoost:  0.7781703073305316\n",
            "Mean Absolute Error for Ensemble Model:  0.7124758374458252\n"
          ]
        }
      ],
      "source": [
        "# Calculating mean absolute error for the ensemble predictions\n",
        "mae_ensemble = mean_absolute_error(ensemble_predictions, Ytest)\n",
        "ensemble_predictions\n",
        "Xtest\n",
        "Ytest\n",
        "\n",
        "print(\"Mean Absolute Error for Random Forest: \", mean_absolute_error(y_pred, Ytest))\n",
        "print(\"Mean Absolute Error for XGBoost: \", mae_xgb)\n",
        "print(\"Mean Absolute Error for Ensemble Model: \", mae_ensemble)"
      ]
    },
    {
      "cell_type": "markdown",
      "metadata": {
        "id": "t7j_gdEkg-NL"
      },
      "source": [
        "CONFIDENCE SCORE"
      ]
    },
    {
      "cell_type": "code",
      "execution_count": 40,
      "metadata": {
        "id": "5ARVdEZ6g8xZ"
      },
      "outputs": [],
      "source": [
        "# Assuming you have an array of predictions from K-fold cross-validation named 'predictions'\n",
        "mean_prediction = np.mean(ensemble_predictions)\n",
        "std_deviation = np.std(ensemble_predictions)\n"
      ]
    },
    {
      "cell_type": "code",
      "execution_count": 41,
      "metadata": {
        "id": "43Xu_ieShlLi",
        "colab": {
          "base_uri": "https://localhost:8080/"
        },
        "outputId": "0cc2fd6b-107f-4bab-ad45-b061ef4964b9"
      },
      "outputs": [
        {
          "output_type": "stream",
          "name": "stdout",
          "text": [
            "Lower bound: 65.31982347410037\n",
            "Upper bound: 65.93969122820589\n",
            "Margin of error: 0.30993387705275666\n",
            "Confidence Percentage: 89.99999999999999\n"
          ]
        }
      ],
      "source": [
        "from scipy.stats import norm\n",
        "\n",
        "# specified the confidence level\n",
        "confidence_level = 0.95\n",
        "\n",
        "# calculate the margin of error\n",
        "z_score = norm.ppf((1 + confidence_level) / 2)  # Z-score for the given confidence level\n",
        "margin_of_error = z_score * (std_deviation / np.sqrt(len(ensemble_predictions)))\n",
        "\n",
        "# Calculate lower and upper bounds of the confidence interval\n",
        "lower_bound = mean_prediction - margin_of_error\n",
        "upper_bound = mean_prediction + margin_of_error\n",
        "confidence_percentage = (1 - 2 * (1 - confidence_level)) * 100\n",
        "\n",
        "print(\"Lower bound:\", lower_bound)\n",
        "print(\"Upper bound:\", upper_bound)\n",
        "print(\"Margin of error:\", margin_of_error)\n",
        "print(\"Confidence Percentage:\", confidence_percentage)"
      ]
    },
    {
      "cell_type": "markdown",
      "metadata": {
        "id": "uhQyVJeuD8Pf"
      },
      "source": [
        "TRAINING MODEL USING NEW DATASET (PLAYERS_22)"
      ]
    },
    {
      "cell_type": "code",
      "execution_count": 42,
      "metadata": {
        "id": "u7TWPhbKEIT6"
      },
      "outputs": [],
      "source": [
        "# Load the new dataset\n",
        "new_df = pd.read_csv('/content/drive/MyDrive/Colab Notebooks/players_22.csv', usecols=selected_columns)\n"
      ]
    },
    {
      "cell_type": "markdown",
      "source": [
        "**DATA PREPOCESSING**"
      ],
      "metadata": {
        "id": "8-dbRD83thgc"
      }
    },
    {
      "cell_type": "code",
      "execution_count": 43,
      "metadata": {
        "id": "YRYaSHaUEj4y"
      },
      "outputs": [],
      "source": [
        "new_df.fillna(0, inplace=True)\n",
        "new_df['overall'] = new_df['overall'].apply(lambda x: 92 if x in [92, 93] else x)"
      ]
    },
    {
      "cell_type": "markdown",
      "source": [
        "**FEATURE ENGINEERING**"
      ],
      "metadata": {
        "id": "8EDto8cdtwh7"
      }
    },
    {
      "cell_type": "code",
      "execution_count": 44,
      "metadata": {
        "id": "fkFxD9fVQw3j",
        "colab": {
          "base_uri": "https://localhost:8080/"
        },
        "outputId": "5aaec322-0d57-4f66-e934-bfa410572cf4"
      },
      "outputs": [
        {
          "output_type": "stream",
          "name": "stdout",
          "text": [
            "<class 'pandas.core.frame.DataFrame'>\n",
            "RangeIndex: 19239 entries, 0 to 19238\n",
            "Data columns (total 28 columns):\n",
            " #   Column                   Non-Null Count  Dtype  \n",
            "---  ------                   --------------  -----  \n",
            " 0   overall                  19239 non-null  int64  \n",
            " 1   potential                19239 non-null  int64  \n",
            " 2   age                      19239 non-null  int64  \n",
            " 3   shooting                 19239 non-null  float64\n",
            " 4   passing                  19239 non-null  float64\n",
            " 5   dribbling                19239 non-null  float64\n",
            " 6   defending                19239 non-null  float64\n",
            " 7   physic                   19239 non-null  float64\n",
            " 8   attacking_crossing       19239 non-null  int64  \n",
            " 9   attacking_finishing      19239 non-null  int64  \n",
            " 10  attacking_short_passing  19239 non-null  int64  \n",
            " 11  attacking_volleys        19239 non-null  int64  \n",
            " 12  movement_reactions       19239 non-null  int64  \n",
            " 13  power_shot_power         19239 non-null  int64  \n",
            " 14  power_long_shots         19239 non-null  int64  \n",
            " 15  mentality_aggression     19239 non-null  int64  \n",
            " 16  mentality_interceptions  19239 non-null  int64  \n",
            " 17  mentality_positioning    19239 non-null  int64  \n",
            " 18  mentality_vision         19239 non-null  int64  \n",
            " 19  mentality_penalties      19239 non-null  int64  \n",
            " 20  mentality_composure      19239 non-null  int64  \n",
            " 21  goalkeeping_diving       19239 non-null  int64  \n",
            " 22  goalkeeping_handling     19239 non-null  int64  \n",
            " 23  goalkeeping_kicking      19239 non-null  int64  \n",
            " 24  goalkeeping_positioning  19239 non-null  int64  \n",
            " 25  goalkeeping_reflexes     19239 non-null  int64  \n",
            " 26  goalkeeping_speed        19239 non-null  float64\n",
            " 27  technical_skills         19239 non-null  float64\n",
            "dtypes: float64(7), int64(21)\n",
            "memory usage: 4.1 MB\n"
          ]
        }
      ],
      "source": [
        "skill_attributes = ['skill_long_passing', 'skill_ball_control', 'skill_curve', 'skill_fk_accuracy', 'skill_dribbling']\n",
        "\n",
        "new_df['technical_skills'] = new_df[skill_attributes].mean(axis=1)\n",
        "\n",
        "new_df.drop(columns=skill_attributes, inplace=True)\n",
        "\n",
        "new_df.info()"
      ]
    },
    {
      "cell_type": "code",
      "execution_count": 45,
      "metadata": {
        "id": "jG_FbtevEZZI",
        "colab": {
          "base_uri": "https://localhost:8080/"
        },
        "outputId": "c2e35ba8-e634-45d7-b2d9-e7f54e7136c3"
      },
      "outputs": [
        {
          "output_type": "stream",
          "name": "stdout",
          "text": [
            "<class 'pandas.core.frame.DataFrame'>\n",
            "RangeIndex: 19239 entries, 0 to 19238\n",
            "Data columns (total 24 columns):\n",
            " #   Column                   Non-Null Count  Dtype  \n",
            "---  ------                   --------------  -----  \n",
            " 0   overall                  19239 non-null  int64  \n",
            " 1   potential                19239 non-null  int64  \n",
            " 2   age                      19239 non-null  int64  \n",
            " 3   passing                  19239 non-null  float64\n",
            " 4   dribbling                19239 non-null  float64\n",
            " 5   defending                19239 non-null  float64\n",
            " 6   physic                   19239 non-null  float64\n",
            " 7   attacking_crossing       19239 non-null  int64  \n",
            " 8   attacking_short_passing  19239 non-null  int64  \n",
            " 9   movement_reactions       19239 non-null  int64  \n",
            " 10  mentality_aggression     19239 non-null  int64  \n",
            " 11  mentality_interceptions  19239 non-null  int64  \n",
            " 12  mentality_positioning    19239 non-null  int64  \n",
            " 13  mentality_vision         19239 non-null  int64  \n",
            " 14  mentality_penalties      19239 non-null  int64  \n",
            " 15  mentality_composure      19239 non-null  int64  \n",
            " 16  goalkeeping_diving       19239 non-null  int64  \n",
            " 17  goalkeeping_handling     19239 non-null  int64  \n",
            " 18  goalkeeping_kicking      19239 non-null  int64  \n",
            " 19  goalkeeping_positioning  19239 non-null  int64  \n",
            " 20  goalkeeping_reflexes     19239 non-null  int64  \n",
            " 21  goalkeeping_speed        19239 non-null  float64\n",
            " 22  technical_skills         19239 non-null  float64\n",
            " 23  shooting_skills          19239 non-null  float64\n",
            "dtypes: float64(7), int64(17)\n",
            "memory usage: 3.5 MB\n"
          ]
        }
      ],
      "source": [
        "shooting_attributes = ['shooting', 'power_shot_power', 'power_long_shots', 'attacking_volleys','attacking_finishing']\n",
        "\n",
        "new_df['shooting_skills'] = new_df[shooting_attributes].mean(axis=1)\n",
        "\n",
        "new_df.drop(columns=shooting_attributes, inplace=True)\n",
        "\n",
        "new_df.info()"
      ]
    },
    {
      "cell_type": "code",
      "execution_count": 46,
      "metadata": {
        "id": "hH4cRsDBFK54",
        "colab": {
          "base_uri": "https://localhost:8080/"
        },
        "outputId": "10e35fe8-2a82-4385-ae73-fa40f2a2c7fc"
      },
      "outputs": [
        {
          "output_type": "stream",
          "name": "stdout",
          "text": [
            "<class 'pandas.core.frame.DataFrame'>\n",
            "RangeIndex: 19239 entries, 0 to 19238\n",
            "Data columns (total 19 columns):\n",
            " #   Column                   Non-Null Count  Dtype  \n",
            "---  ------                   --------------  -----  \n",
            " 0   overall                  19239 non-null  int64  \n",
            " 1   potential                19239 non-null  int64  \n",
            " 2   age                      19239 non-null  int64  \n",
            " 3   passing                  19239 non-null  float64\n",
            " 4   dribbling                19239 non-null  float64\n",
            " 5   defending                19239 non-null  float64\n",
            " 6   physic                   19239 non-null  float64\n",
            " 7   attacking_crossing       19239 non-null  int64  \n",
            " 8   attacking_short_passing  19239 non-null  int64  \n",
            " 9   movement_reactions       19239 non-null  int64  \n",
            " 10  goalkeeping_diving       19239 non-null  int64  \n",
            " 11  goalkeeping_handling     19239 non-null  int64  \n",
            " 12  goalkeeping_kicking      19239 non-null  int64  \n",
            " 13  goalkeeping_positioning  19239 non-null  int64  \n",
            " 14  goalkeeping_reflexes     19239 non-null  int64  \n",
            " 15  goalkeeping_speed        19239 non-null  float64\n",
            " 16  technical_skills         19239 non-null  float64\n",
            " 17  shooting_skills          19239 non-null  float64\n",
            " 18  mentality                19239 non-null  float64\n",
            "dtypes: float64(8), int64(11)\n",
            "memory usage: 2.8 MB\n"
          ]
        }
      ],
      "source": [
        "mentality_attributes = ['mentality_aggression', 'mentality_interceptions', 'mentality_positioning',\n",
        "                        'mentality_vision', 'mentality_penalties', 'mentality_composure']\n",
        "imputer = SimpleImputer(strategy='mean')\n",
        "new_df[mentality_attributes] = imputer.fit_transform(new_df[mentality_attributes])\n",
        "\n",
        "new_df['mentality'] = new_df[mentality_attributes].mean(axis=1)\n",
        "\n",
        "new_df.drop(columns=mentality_attributes, inplace=True)\n",
        "\n",
        "new_df.info()"
      ]
    },
    {
      "cell_type": "code",
      "execution_count": 47,
      "metadata": {
        "id": "2omfbwbNFy6B",
        "colab": {
          "base_uri": "https://localhost:8080/"
        },
        "outputId": "40fcbd1a-e60f-4633-ff21-51966db6b233"
      },
      "outputs": [
        {
          "output_type": "stream",
          "name": "stdout",
          "text": [
            "<class 'pandas.core.frame.DataFrame'>\n",
            "RangeIndex: 19239 entries, 0 to 19238\n",
            "Data columns (total 14 columns):\n",
            " #   Column                   Non-Null Count  Dtype  \n",
            "---  ------                   --------------  -----  \n",
            " 0   overall                  19239 non-null  int64  \n",
            " 1   potential                19239 non-null  int64  \n",
            " 2   age                      19239 non-null  int64  \n",
            " 3   passing                  19239 non-null  float64\n",
            " 4   dribbling                19239 non-null  float64\n",
            " 5   defending                19239 non-null  float64\n",
            " 6   physic                   19239 non-null  float64\n",
            " 7   attacking_crossing       19239 non-null  int64  \n",
            " 8   attacking_short_passing  19239 non-null  int64  \n",
            " 9   movement_reactions       19239 non-null  int64  \n",
            " 10  technical_skills         19239 non-null  float64\n",
            " 11  shooting_skills          19239 non-null  float64\n",
            " 12  mentality                19239 non-null  float64\n",
            " 13  goalkeeping_ability      19239 non-null  float64\n",
            "dtypes: float64(8), int64(6)\n",
            "memory usage: 2.1 MB\n"
          ]
        }
      ],
      "source": [
        "goalkeeping_attributes = ['goalkeeping_diving', 'goalkeeping_handling', 'goalkeeping_kicking',\n",
        "                          'goalkeeping_positioning', 'goalkeeping_reflexes', 'goalkeeping_speed']\n",
        "\n",
        "imputer = SimpleImputer(strategy='mean')\n",
        "new_df[goalkeeping_attributes] = imputer.fit_transform(new_df[goalkeeping_attributes])\n",
        "\n",
        "new_df['goalkeeping_ability'] = new_df[goalkeeping_attributes].mean(axis=1)\n",
        "\n",
        "new_df.drop(columns=goalkeeping_attributes, inplace=True)\n",
        "\n",
        "new_df.info()"
      ]
    },
    {
      "cell_type": "markdown",
      "source": [
        "**TRAINING AND EVALUATION**"
      ],
      "metadata": {
        "id": "WoLGJGLKtqhJ"
      }
    },
    {
      "cell_type": "code",
      "execution_count": 48,
      "metadata": {
        "id": "_mwf7ePFEVOE",
        "colab": {
          "base_uri": "https://localhost:8080/",
          "height": 443
        },
        "outputId": "daba8a16-c962-4016-ff83-24615b0fbf22"
      },
      "outputs": [
        {
          "output_type": "execute_result",
          "data": {
            "text/plain": [
              "       potential  age  passing  dribbling  defending  physic  \\\n",
              "0             93   34     91.0       95.0       34.0    65.0   \n",
              "1             92   32     79.0       86.0       44.0    82.0   \n",
              "2             91   36     80.0       88.0       34.0    75.0   \n",
              "3             91   29     86.0       94.0       37.0    63.0   \n",
              "4             91   30     93.0       88.0       64.0    78.0   \n",
              "...          ...  ...      ...        ...        ...     ...   \n",
              "19234         52   22     46.0       48.0       42.0    49.0   \n",
              "19235         59   19     50.0       46.0       41.0    51.0   \n",
              "19236         55   21     45.0       49.0       41.0    52.0   \n",
              "19237         60   19     36.0       48.0       15.0    42.0   \n",
              "19238         60   19     45.0       48.0       36.0    48.0   \n",
              "\n",
              "       attacking_crossing  attacking_short_passing  movement_reactions  \\\n",
              "0                      85                       91                  94   \n",
              "1                      71                       85                  93   \n",
              "2                      87                       80                  94   \n",
              "3                      85                       86                  89   \n",
              "4                      94                       94                  91   \n",
              "...                   ...                      ...                 ...   \n",
              "19234                  46                       50                  53   \n",
              "19235                  54                       51                  49   \n",
              "19236                  39                       49                  46   \n",
              "19237                  29                       38                  48   \n",
              "19238                  39                       50                  54   \n",
              "\n",
              "       technical_skills  shooting_skills  mentality  goalkeeping_ability  \n",
              "0                  94.0             91.0  73.833333             9.000000  \n",
              "1                  81.4             90.6  80.666667             8.500000  \n",
              "2                  83.6             92.4  74.333333             9.666667  \n",
              "3                  89.2             82.6  77.000000             9.833333  \n",
              "4                  88.0             86.4  82.666667             9.333333  \n",
              "...                 ...              ...        ...                  ...  \n",
              "19234              42.6             34.6  42.333333             8.166667  \n",
              "19235              43.4             38.2  46.500000             7.833333  \n",
              "19236              43.8             38.0  42.500000             6.166667  \n",
              "19237              38.0             43.6  38.500000             8.833333  \n",
              "19238              41.0             38.6  43.500000             9.500000  \n",
              "\n",
              "[19239 rows x 13 columns]"
            ],
            "text/html": [
              "\n",
              "  <div id=\"df-26045ed4-eed0-4a20-b61b-244b3f59d70f\" class=\"colab-df-container\">\n",
              "    <div>\n",
              "<style scoped>\n",
              "    .dataframe tbody tr th:only-of-type {\n",
              "        vertical-align: middle;\n",
              "    }\n",
              "\n",
              "    .dataframe tbody tr th {\n",
              "        vertical-align: top;\n",
              "    }\n",
              "\n",
              "    .dataframe thead th {\n",
              "        text-align: right;\n",
              "    }\n",
              "</style>\n",
              "<table border=\"1\" class=\"dataframe\">\n",
              "  <thead>\n",
              "    <tr style=\"text-align: right;\">\n",
              "      <th></th>\n",
              "      <th>potential</th>\n",
              "      <th>age</th>\n",
              "      <th>passing</th>\n",
              "      <th>dribbling</th>\n",
              "      <th>defending</th>\n",
              "      <th>physic</th>\n",
              "      <th>attacking_crossing</th>\n",
              "      <th>attacking_short_passing</th>\n",
              "      <th>movement_reactions</th>\n",
              "      <th>technical_skills</th>\n",
              "      <th>shooting_skills</th>\n",
              "      <th>mentality</th>\n",
              "      <th>goalkeeping_ability</th>\n",
              "    </tr>\n",
              "  </thead>\n",
              "  <tbody>\n",
              "    <tr>\n",
              "      <th>0</th>\n",
              "      <td>93</td>\n",
              "      <td>34</td>\n",
              "      <td>91.0</td>\n",
              "      <td>95.0</td>\n",
              "      <td>34.0</td>\n",
              "      <td>65.0</td>\n",
              "      <td>85</td>\n",
              "      <td>91</td>\n",
              "      <td>94</td>\n",
              "      <td>94.0</td>\n",
              "      <td>91.0</td>\n",
              "      <td>73.833333</td>\n",
              "      <td>9.000000</td>\n",
              "    </tr>\n",
              "    <tr>\n",
              "      <th>1</th>\n",
              "      <td>92</td>\n",
              "      <td>32</td>\n",
              "      <td>79.0</td>\n",
              "      <td>86.0</td>\n",
              "      <td>44.0</td>\n",
              "      <td>82.0</td>\n",
              "      <td>71</td>\n",
              "      <td>85</td>\n",
              "      <td>93</td>\n",
              "      <td>81.4</td>\n",
              "      <td>90.6</td>\n",
              "      <td>80.666667</td>\n",
              "      <td>8.500000</td>\n",
              "    </tr>\n",
              "    <tr>\n",
              "      <th>2</th>\n",
              "      <td>91</td>\n",
              "      <td>36</td>\n",
              "      <td>80.0</td>\n",
              "      <td>88.0</td>\n",
              "      <td>34.0</td>\n",
              "      <td>75.0</td>\n",
              "      <td>87</td>\n",
              "      <td>80</td>\n",
              "      <td>94</td>\n",
              "      <td>83.6</td>\n",
              "      <td>92.4</td>\n",
              "      <td>74.333333</td>\n",
              "      <td>9.666667</td>\n",
              "    </tr>\n",
              "    <tr>\n",
              "      <th>3</th>\n",
              "      <td>91</td>\n",
              "      <td>29</td>\n",
              "      <td>86.0</td>\n",
              "      <td>94.0</td>\n",
              "      <td>37.0</td>\n",
              "      <td>63.0</td>\n",
              "      <td>85</td>\n",
              "      <td>86</td>\n",
              "      <td>89</td>\n",
              "      <td>89.2</td>\n",
              "      <td>82.6</td>\n",
              "      <td>77.000000</td>\n",
              "      <td>9.833333</td>\n",
              "    </tr>\n",
              "    <tr>\n",
              "      <th>4</th>\n",
              "      <td>91</td>\n",
              "      <td>30</td>\n",
              "      <td>93.0</td>\n",
              "      <td>88.0</td>\n",
              "      <td>64.0</td>\n",
              "      <td>78.0</td>\n",
              "      <td>94</td>\n",
              "      <td>94</td>\n",
              "      <td>91</td>\n",
              "      <td>88.0</td>\n",
              "      <td>86.4</td>\n",
              "      <td>82.666667</td>\n",
              "      <td>9.333333</td>\n",
              "    </tr>\n",
              "    <tr>\n",
              "      <th>...</th>\n",
              "      <td>...</td>\n",
              "      <td>...</td>\n",
              "      <td>...</td>\n",
              "      <td>...</td>\n",
              "      <td>...</td>\n",
              "      <td>...</td>\n",
              "      <td>...</td>\n",
              "      <td>...</td>\n",
              "      <td>...</td>\n",
              "      <td>...</td>\n",
              "      <td>...</td>\n",
              "      <td>...</td>\n",
              "      <td>...</td>\n",
              "    </tr>\n",
              "    <tr>\n",
              "      <th>19234</th>\n",
              "      <td>52</td>\n",
              "      <td>22</td>\n",
              "      <td>46.0</td>\n",
              "      <td>48.0</td>\n",
              "      <td>42.0</td>\n",
              "      <td>49.0</td>\n",
              "      <td>46</td>\n",
              "      <td>50</td>\n",
              "      <td>53</td>\n",
              "      <td>42.6</td>\n",
              "      <td>34.6</td>\n",
              "      <td>42.333333</td>\n",
              "      <td>8.166667</td>\n",
              "    </tr>\n",
              "    <tr>\n",
              "      <th>19235</th>\n",
              "      <td>59</td>\n",
              "      <td>19</td>\n",
              "      <td>50.0</td>\n",
              "      <td>46.0</td>\n",
              "      <td>41.0</td>\n",
              "      <td>51.0</td>\n",
              "      <td>54</td>\n",
              "      <td>51</td>\n",
              "      <td>49</td>\n",
              "      <td>43.4</td>\n",
              "      <td>38.2</td>\n",
              "      <td>46.500000</td>\n",
              "      <td>7.833333</td>\n",
              "    </tr>\n",
              "    <tr>\n",
              "      <th>19236</th>\n",
              "      <td>55</td>\n",
              "      <td>21</td>\n",
              "      <td>45.0</td>\n",
              "      <td>49.0</td>\n",
              "      <td>41.0</td>\n",
              "      <td>52.0</td>\n",
              "      <td>39</td>\n",
              "      <td>49</td>\n",
              "      <td>46</td>\n",
              "      <td>43.8</td>\n",
              "      <td>38.0</td>\n",
              "      <td>42.500000</td>\n",
              "      <td>6.166667</td>\n",
              "    </tr>\n",
              "    <tr>\n",
              "      <th>19237</th>\n",
              "      <td>60</td>\n",
              "      <td>19</td>\n",
              "      <td>36.0</td>\n",
              "      <td>48.0</td>\n",
              "      <td>15.0</td>\n",
              "      <td>42.0</td>\n",
              "      <td>29</td>\n",
              "      <td>38</td>\n",
              "      <td>48</td>\n",
              "      <td>38.0</td>\n",
              "      <td>43.6</td>\n",
              "      <td>38.500000</td>\n",
              "      <td>8.833333</td>\n",
              "    </tr>\n",
              "    <tr>\n",
              "      <th>19238</th>\n",
              "      <td>60</td>\n",
              "      <td>19</td>\n",
              "      <td>45.0</td>\n",
              "      <td>48.0</td>\n",
              "      <td>36.0</td>\n",
              "      <td>48.0</td>\n",
              "      <td>39</td>\n",
              "      <td>50</td>\n",
              "      <td>54</td>\n",
              "      <td>41.0</td>\n",
              "      <td>38.6</td>\n",
              "      <td>43.500000</td>\n",
              "      <td>9.500000</td>\n",
              "    </tr>\n",
              "  </tbody>\n",
              "</table>\n",
              "<p>19239 rows × 13 columns</p>\n",
              "</div>\n",
              "    <div class=\"colab-df-buttons\">\n",
              "\n",
              "  <div class=\"colab-df-container\">\n",
              "    <button class=\"colab-df-convert\" onclick=\"convertToInteractive('df-26045ed4-eed0-4a20-b61b-244b3f59d70f')\"\n",
              "            title=\"Convert this dataframe to an interactive table.\"\n",
              "            style=\"display:none;\">\n",
              "\n",
              "  <svg xmlns=\"http://www.w3.org/2000/svg\" height=\"24px\" viewBox=\"0 -960 960 960\">\n",
              "    <path d=\"M120-120v-720h720v720H120Zm60-500h600v-160H180v160Zm220 220h160v-160H400v160Zm0 220h160v-160H400v160ZM180-400h160v-160H180v160Zm440 0h160v-160H620v160ZM180-180h160v-160H180v160Zm440 0h160v-160H620v160Z\"/>\n",
              "  </svg>\n",
              "    </button>\n",
              "\n",
              "  <style>\n",
              "    .colab-df-container {\n",
              "      display:flex;\n",
              "      gap: 12px;\n",
              "    }\n",
              "\n",
              "    .colab-df-convert {\n",
              "      background-color: #E8F0FE;\n",
              "      border: none;\n",
              "      border-radius: 50%;\n",
              "      cursor: pointer;\n",
              "      display: none;\n",
              "      fill: #1967D2;\n",
              "      height: 32px;\n",
              "      padding: 0 0 0 0;\n",
              "      width: 32px;\n",
              "    }\n",
              "\n",
              "    .colab-df-convert:hover {\n",
              "      background-color: #E2EBFA;\n",
              "      box-shadow: 0px 1px 2px rgba(60, 64, 67, 0.3), 0px 1px 3px 1px rgba(60, 64, 67, 0.15);\n",
              "      fill: #174EA6;\n",
              "    }\n",
              "\n",
              "    .colab-df-buttons div {\n",
              "      margin-bottom: 4px;\n",
              "    }\n",
              "\n",
              "    [theme=dark] .colab-df-convert {\n",
              "      background-color: #3B4455;\n",
              "      fill: #D2E3FC;\n",
              "    }\n",
              "\n",
              "    [theme=dark] .colab-df-convert:hover {\n",
              "      background-color: #434B5C;\n",
              "      box-shadow: 0px 1px 3px 1px rgba(0, 0, 0, 0.15);\n",
              "      filter: drop-shadow(0px 1px 2px rgba(0, 0, 0, 0.3));\n",
              "      fill: #FFFFFF;\n",
              "    }\n",
              "  </style>\n",
              "\n",
              "    <script>\n",
              "      const buttonEl =\n",
              "        document.querySelector('#df-26045ed4-eed0-4a20-b61b-244b3f59d70f button.colab-df-convert');\n",
              "      buttonEl.style.display =\n",
              "        google.colab.kernel.accessAllowed ? 'block' : 'none';\n",
              "\n",
              "      async function convertToInteractive(key) {\n",
              "        const element = document.querySelector('#df-26045ed4-eed0-4a20-b61b-244b3f59d70f');\n",
              "        const dataTable =\n",
              "          await google.colab.kernel.invokeFunction('convertToInteractive',\n",
              "                                                    [key], {});\n",
              "        if (!dataTable) return;\n",
              "\n",
              "        const docLinkHtml = 'Like what you see? Visit the ' +\n",
              "          '<a target=\"_blank\" href=https://colab.research.google.com/notebooks/data_table.ipynb>data table notebook</a>'\n",
              "          + ' to learn more about interactive tables.';\n",
              "        element.innerHTML = '';\n",
              "        dataTable['output_type'] = 'display_data';\n",
              "        await google.colab.output.renderOutput(dataTable, element);\n",
              "        const docLink = document.createElement('div');\n",
              "        docLink.innerHTML = docLinkHtml;\n",
              "        element.appendChild(docLink);\n",
              "      }\n",
              "    </script>\n",
              "  </div>\n",
              "\n",
              "\n",
              "<div id=\"df-154c71cf-7c5d-4f23-8a81-5971df6026d0\">\n",
              "  <button class=\"colab-df-quickchart\" onclick=\"quickchart('df-154c71cf-7c5d-4f23-8a81-5971df6026d0')\"\n",
              "            title=\"Suggest charts.\"\n",
              "            style=\"display:none;\">\n",
              "\n",
              "<svg xmlns=\"http://www.w3.org/2000/svg\" height=\"24px\"viewBox=\"0 0 24 24\"\n",
              "     width=\"24px\">\n",
              "    <g>\n",
              "        <path d=\"M19 3H5c-1.1 0-2 .9-2 2v14c0 1.1.9 2 2 2h14c1.1 0 2-.9 2-2V5c0-1.1-.9-2-2-2zM9 17H7v-7h2v7zm4 0h-2V7h2v10zm4 0h-2v-4h2v4z\"/>\n",
              "    </g>\n",
              "</svg>\n",
              "  </button>\n",
              "\n",
              "<style>\n",
              "  .colab-df-quickchart {\n",
              "      --bg-color: #E8F0FE;\n",
              "      --fill-color: #1967D2;\n",
              "      --hover-bg-color: #E2EBFA;\n",
              "      --hover-fill-color: #174EA6;\n",
              "      --disabled-fill-color: #AAA;\n",
              "      --disabled-bg-color: #DDD;\n",
              "  }\n",
              "\n",
              "  [theme=dark] .colab-df-quickchart {\n",
              "      --bg-color: #3B4455;\n",
              "      --fill-color: #D2E3FC;\n",
              "      --hover-bg-color: #434B5C;\n",
              "      --hover-fill-color: #FFFFFF;\n",
              "      --disabled-bg-color: #3B4455;\n",
              "      --disabled-fill-color: #666;\n",
              "  }\n",
              "\n",
              "  .colab-df-quickchart {\n",
              "    background-color: var(--bg-color);\n",
              "    border: none;\n",
              "    border-radius: 50%;\n",
              "    cursor: pointer;\n",
              "    display: none;\n",
              "    fill: var(--fill-color);\n",
              "    height: 32px;\n",
              "    padding: 0;\n",
              "    width: 32px;\n",
              "  }\n",
              "\n",
              "  .colab-df-quickchart:hover {\n",
              "    background-color: var(--hover-bg-color);\n",
              "    box-shadow: 0 1px 2px rgba(60, 64, 67, 0.3), 0 1px 3px 1px rgba(60, 64, 67, 0.15);\n",
              "    fill: var(--button-hover-fill-color);\n",
              "  }\n",
              "\n",
              "  .colab-df-quickchart-complete:disabled,\n",
              "  .colab-df-quickchart-complete:disabled:hover {\n",
              "    background-color: var(--disabled-bg-color);\n",
              "    fill: var(--disabled-fill-color);\n",
              "    box-shadow: none;\n",
              "  }\n",
              "\n",
              "  .colab-df-spinner {\n",
              "    border: 2px solid var(--fill-color);\n",
              "    border-color: transparent;\n",
              "    border-bottom-color: var(--fill-color);\n",
              "    animation:\n",
              "      spin 1s steps(1) infinite;\n",
              "  }\n",
              "\n",
              "  @keyframes spin {\n",
              "    0% {\n",
              "      border-color: transparent;\n",
              "      border-bottom-color: var(--fill-color);\n",
              "      border-left-color: var(--fill-color);\n",
              "    }\n",
              "    20% {\n",
              "      border-color: transparent;\n",
              "      border-left-color: var(--fill-color);\n",
              "      border-top-color: var(--fill-color);\n",
              "    }\n",
              "    30% {\n",
              "      border-color: transparent;\n",
              "      border-left-color: var(--fill-color);\n",
              "      border-top-color: var(--fill-color);\n",
              "      border-right-color: var(--fill-color);\n",
              "    }\n",
              "    40% {\n",
              "      border-color: transparent;\n",
              "      border-right-color: var(--fill-color);\n",
              "      border-top-color: var(--fill-color);\n",
              "    }\n",
              "    60% {\n",
              "      border-color: transparent;\n",
              "      border-right-color: var(--fill-color);\n",
              "    }\n",
              "    80% {\n",
              "      border-color: transparent;\n",
              "      border-right-color: var(--fill-color);\n",
              "      border-bottom-color: var(--fill-color);\n",
              "    }\n",
              "    90% {\n",
              "      border-color: transparent;\n",
              "      border-bottom-color: var(--fill-color);\n",
              "    }\n",
              "  }\n",
              "</style>\n",
              "\n",
              "  <script>\n",
              "    async function quickchart(key) {\n",
              "      const quickchartButtonEl =\n",
              "        document.querySelector('#' + key + ' button');\n",
              "      quickchartButtonEl.disabled = true;  // To prevent multiple clicks.\n",
              "      quickchartButtonEl.classList.add('colab-df-spinner');\n",
              "      try {\n",
              "        const charts = await google.colab.kernel.invokeFunction(\n",
              "            'suggestCharts', [key], {});\n",
              "      } catch (error) {\n",
              "        console.error('Error during call to suggestCharts:', error);\n",
              "      }\n",
              "      quickchartButtonEl.classList.remove('colab-df-spinner');\n",
              "      quickchartButtonEl.classList.add('colab-df-quickchart-complete');\n",
              "    }\n",
              "    (() => {\n",
              "      let quickchartButtonEl =\n",
              "        document.querySelector('#df-154c71cf-7c5d-4f23-8a81-5971df6026d0 button');\n",
              "      quickchartButtonEl.style.display =\n",
              "        google.colab.kernel.accessAllowed ? 'block' : 'none';\n",
              "    })();\n",
              "  </script>\n",
              "</div>\n",
              "    </div>\n",
              "  </div>\n"
            ]
          },
          "metadata": {},
          "execution_count": 48
        }
      ],
      "source": [
        "y_new = new_df['overall']\n",
        "X_new = new_df.drop('overall', axis=1)\n",
        "X_new"
      ]
    },
    {
      "cell_type": "code",
      "execution_count": 49,
      "metadata": {
        "id": "nv8MDKQxEIxX"
      },
      "outputs": [],
      "source": [
        "scaled_X_new = sc.fit_transform(X_new)\n",
        "X_new = pd.DataFrame(scaled_X_new, columns=X_new.columns)"
      ]
    },
    {
      "cell_type": "code",
      "execution_count": 50,
      "metadata": {
        "id": "zDDllChhHhhS"
      },
      "outputs": [],
      "source": [
        "X_new_train,X_new_test,Y_new_train,Y_new_test=train_test_split(X_new,y_new,test_size=0.1,random_state=42,stratify = y_new)"
      ]
    },
    {
      "cell_type": "code",
      "execution_count": 51,
      "metadata": {
        "id": "O3nc9jNZHk_J"
      },
      "outputs": [],
      "source": [
        "rf.fit(X_new_train, Y_new_train)\n",
        "y_pred_rf = rf.predict(X_new_test)\n"
      ]
    },
    {
      "cell_type": "code",
      "execution_count": 52,
      "metadata": {
        "id": "5tsTNKVORAxs",
        "colab": {
          "base_uri": "https://localhost:8080/"
        },
        "outputId": "96362371-4c05-4f15-cc00-1b7dbc01c9d2"
      },
      "outputs": [
        {
          "output_type": "execute_result",
          "data": {
            "text/plain": [
              "0.7156340956340957"
            ]
          },
          "metadata": {},
          "execution_count": 52
        }
      ],
      "source": [
        "mean_absolute_error(y_pred_rf,Y_new_test)"
      ]
    },
    {
      "cell_type": "code",
      "execution_count": 53,
      "metadata": {
        "id": "0tj2ZjmHJDxj",
        "colab": {
          "base_uri": "https://localhost:8080/"
        },
        "outputId": "a0edce53-c615-4cc8-edd2-70e209bd3e22"
      },
      "outputs": [
        {
          "output_type": "execute_result",
          "data": {
            "text/plain": [
              "0.7446936292112989"
            ]
          },
          "metadata": {},
          "execution_count": 53
        }
      ],
      "source": [
        "xgb_model.fit(X_new_train, Y_new_train)\n",
        "y_pred_xgb = xgb_model.predict(X_new_test)\n",
        "mae_xgb_new = mean_absolute_error(y_pred_xgb, Y_new_test)\n",
        "mae_xgb_new"
      ]
    },
    {
      "cell_type": "markdown",
      "source": [
        "**Hyperparameter Tuning for Random Forest Regression**"
      ],
      "metadata": {
        "id": "PPchTcD9p4rs"
      }
    },
    {
      "cell_type": "code",
      "execution_count": 54,
      "metadata": {
        "colab": {
          "base_uri": "https://localhost:8080/"
        },
        "id": "qUiGEuQIHKFp",
        "outputId": "3f7d7c7a-cb69-4e61-8296-a06194989144"
      },
      "outputs": [
        {
          "output_type": "stream",
          "name": "stdout",
          "text": [
            "Fitting 5 folds for each of 81 candidates, totalling 405 fits\n",
            "Best Hyperparameters: {'max_depth': None, 'min_samples_leaf': 1, 'min_samples_split': 2, 'n_estimators': 150}\n",
            "Mean Absolute Error for Tuned Random Forest:  0.7126334026334026\n"
          ]
        }
      ],
      "source": [
        "from sklearn.model_selection import GridSearchCV\n",
        "\n",
        "# Define the hyperparameters and their respective values to search through\n",
        "param_grid = {\n",
        "    'n_estimators': [50, 100, 150],  # Number of trees in the forest\n",
        "    'max_depth': [None, 10, 20],  # Maximum depth of the tree\n",
        "    'min_samples_split': [2, 5, 10],  # Minimum samples required to split an internal node\n",
        "    'min_samples_leaf': [1, 2, 4]  # Minimum number of samples required to be at a leaf node\n",
        "}\n",
        "\n",
        "# initialize Grid Search with 5-fold cross-validation\n",
        "grid_search = GridSearchCV(estimator=rf, param_grid=param_grid, cv=5, n_jobs=-1, verbose=2)\n",
        "\n",
        "# perform Grid Search on the training data\n",
        "grid_search.fit(X_new_train, Y_new_train)\n",
        "\n",
        "# Get the best hyperparameters found by Grid Search\n",
        "best_params = grid_search.best_params_\n",
        "print(\"Best Hyperparameters:\", best_params)\n",
        "\n",
        "# initialize a new Random Forest Regressor with the best hyperparameters\n",
        "best_rf = RandomForestRegressor(**best_params)\n",
        "\n",
        "# train the model with the best hyperparameters\n",
        "best_rf.fit(X_new_train, Y_new_train)\n",
        "\n",
        "# make predictions using the tuned model\n",
        "y_pred_rf_tuned = best_rf.predict(X_new_test)\n",
        "\n",
        "# Calculate mean absolute error for the tuned model\n",
        "mae_rf_tuned = mean_absolute_error(y_pred_rf_tuned, Y_new_test)\n",
        "print(\"Mean Absolute Error for Tuned Random Forest: \", mae_rf_tuned)\n"
      ]
    },
    {
      "cell_type": "markdown",
      "source": [
        "**Hyperparameter Tuning for XGBoost Regression**"
      ],
      "metadata": {
        "id": "5c2GnRntpim-"
      }
    },
    {
      "cell_type": "code",
      "execution_count": 55,
      "metadata": {
        "id": "VWgcllxxIPf8",
        "colab": {
          "base_uri": "https://localhost:8080/"
        },
        "outputId": "625ecb51-8899-4a29-8403-2cdd75d724be"
      },
      "outputs": [
        {
          "output_type": "stream",
          "name": "stdout",
          "text": [
            "Fitting 5 folds for each of 162 candidates, totalling 810 fits\n",
            "Best Hyperparameters: {'learning_rate': 0.1, 'max_depth': 9, 'min_child_weight': 10, 'n_estimators': 150, 'subsample': 0.8}\n",
            "Mean Absolute Error for Tuned XGBoost:  0.6725658250202012\n"
          ]
        }
      ],
      "source": [
        "from sklearn.model_selection import GridSearchCV\n",
        "\n",
        "# define the hyperparameters and their respective values to search through\n",
        "param_grid = {\n",
        "    'n_estimators': [50, 100, 150],  # Number of boosting rounds\n",
        "    'max_depth': [3, 6, 9],  # Maximum depth of the tree\n",
        "    'learning_rate': [0.01, 0.1, 0.2],  # Step size shrinkage used to prevent overfitting\n",
        "    'subsample': [0.8, 1.0],  # Fraction of samples used for fitting the trees\n",
        "    'min_child_weight': [1, 5, 10]  # Minimum sum of instance weight (hessian) needed in a child\n",
        "}\n",
        "\n",
        "# initialize Grid Search with 5-fold cross-validation\n",
        "grid_search = GridSearchCV(estimator=xgb_model, param_grid=param_grid, cv=5, n_jobs=-1, verbose=2)\n",
        "\n",
        "# perform Grid Search on the training data\n",
        "grid_search.fit(X_new_train, Y_new_train)\n",
        "\n",
        "# get the best hyperparameters found by Grid Search\n",
        "best_params = grid_search.best_params_\n",
        "print(\"Best Hyperparameters:\", best_params)\n",
        "\n",
        "# initialize a new XGBoost Regressor with the best hyperparameters\n",
        "best_xgb = XGBRegressor(**best_params)\n",
        "\n",
        "# train the model with the best hyperparameters\n",
        "best_xgb.fit(X_new_train, Y_new_train)\n",
        "\n",
        "# make predictions using the tuned model\n",
        "y_pred_xgb_tuned = best_xgb.predict(X_new_test)\n",
        "\n",
        "# calculate mean absolute error for the tuned model\n",
        "mae_xgb_tuned = mean_absolute_error(y_pred_xgb_tuned, Y_new_test)\n",
        "print(\"Mean Absolute Error for Tuned XGBoost: \", mae_xgb_tuned)\n"
      ]
    },
    {
      "cell_type": "markdown",
      "source": [
        "**TESTING USING THE ENSEMBLE MODEL**"
      ],
      "metadata": {
        "id": "W0NdDnT6t_8s"
      }
    },
    {
      "cell_type": "code",
      "execution_count": 56,
      "metadata": {
        "id": "p6rvv642JJO8",
        "colab": {
          "base_uri": "https://localhost:8080/"
        },
        "outputId": "cfa84ef1-712a-461d-fc82-22fcbd1e2121"
      },
      "outputs": [
        {
          "output_type": "stream",
          "name": "stdout",
          "text": [
            "[51.95428162 64.25309952 70.08895874 ... 70.0063945  55.5809964\n",
            " 65.36623917]\n",
            "       potential       age   passing  dribbling  defending    physic  \\\n",
            "18622   0.476817 -1.538316 -1.074897  -1.040132   0.238857  0.163729   \n",
            "10987  -0.505208  0.164816  0.154589   0.249206   0.687310  0.840549   \n",
            "4735   -0.177866  1.016381  0.351307   0.663636  -0.030216  0.569821   \n",
            "2782    0.967830 -0.048076  0.056230   0.249206   1.225455  0.840549   \n",
            "10844  -0.832549  0.590598  0.302128   0.295254   0.732156  0.614943   \n",
            "...          ...       ...       ...        ...        ...       ...   \n",
            "7651   -0.341537 -0.048076  0.744743   0.617588   0.642465  0.479579   \n",
            "17840  -1.487233 -0.260967 -0.091308   0.065015   0.418238 -0.016756   \n",
            "5106   -0.177866  0.590598  0.351307   0.939922  -0.747742 -0.242363   \n",
            "17389  -0.505208 -0.899642  0.007051   0.018967  -0.119906 -0.106999   \n",
            "8993   -0.341537 -0.048076  0.548025   0.525492   0.418238 -0.152120   \n",
            "\n",
            "       attacking_crossing  attacking_short_passing  movement_reactions  \\\n",
            "18622           -1.245711                -1.695406           -1.932402   \n",
            "10987           -0.915179                 0.569212           -0.396087   \n",
            "4735             0.351859                 0.020214            0.811018   \n",
            "2782            -0.143939                 0.294713            0.701281   \n",
            "10844            0.517124                 0.226088            0.372071   \n",
            "...                   ...                      ...                 ...   \n",
            "7651             0.902745                 0.431962            0.152597   \n",
            "17840            0.351859                -0.391535           -1.054508   \n",
            "5106             0.902745                 0.226088            1.688912   \n",
            "17389            0.076416                -0.254285           -0.835034   \n",
            "8993            -0.419382                 0.431962            0.372071   \n",
            "\n",
            "       shooting_skills  mentality  technical_skills  goalkeeping_ability  \n",
            "18622        -1.194517  -1.093680         -1.513248            -0.363822  \n",
            "10987         0.495092   0.519603         -0.053613            -0.301689  \n",
            "4735          1.194241   1.003588          0.644473            -0.301689  \n",
            "2782         -0.961468   0.438939         -0.053613            -0.239556  \n",
            "10844        -0.553631   0.116283          0.009849            -0.239556  \n",
            "...                ...        ...               ...                  ...  \n",
            "7651          0.844666   1.003588          0.834860            -0.301689  \n",
            "17840        -1.077993  -0.448367         -0.370925            -0.363822  \n",
            "5106          1.194241   0.358275          0.517548            -0.425956  \n",
            "17389        -0.495369  -0.367702         -0.180538            -0.363822  \n",
            "8993          0.553354   0.761596          0.771397            -0.239556  \n",
            "\n",
            "[1895 rows x 13 columns]\n",
            "18622    51\n",
            "10987    64\n",
            "4735     70\n",
            "2782     73\n",
            "10844    64\n",
            "         ..\n",
            "7651     67\n",
            "17840    54\n",
            "5106     70\n",
            "17389    56\n",
            "8993     66\n",
            "Name: overall, Length: 1895, dtype: int64\n"
          ]
        },
        {
          "output_type": "execute_result",
          "data": {
            "text/plain": [
              "0.7142978086043787"
            ]
          },
          "metadata": {},
          "execution_count": 56
        }
      ],
      "source": [
        "from sklearn.ensemble import VotingRegressor\n",
        "\n",
        "ensemble_model = VotingRegressor(estimators=[('rf', rf), ('xgb', xgb_model)])\n",
        "\n",
        "ensemble_model.fit(Xtrain, Ytrain)\n",
        "\n",
        "ensemble_predictions = ensemble_model.predict(Xtest)\n",
        "print(ensemble_predictions)\n",
        "print(Xtest)\n",
        "print(Ytest)\n",
        "\n",
        "mae_ensemble_new = mean_absolute_error(ensemble_predictions, Ytest)\n",
        "\n",
        "mae_ensemble_new"
      ]
    },
    {
      "cell_type": "code",
      "execution_count": 57,
      "metadata": {
        "id": "OETYHe44XC6J",
        "colab": {
          "base_uri": "https://localhost:8080/"
        },
        "outputId": "e589a605-e291-4816-8b7f-17522848f9f6"
      },
      "outputs": [
        {
          "output_type": "execute_result",
          "data": {
            "text/plain": [
              "['/content/drive/My Drive/Colab Notebooks/scaler_ensemble.pkl']"
            ]
          },
          "metadata": {},
          "execution_count": 57
        }
      ],
      "source": [
        "# saving the scaler object using joblib for later use in ensemble models\n",
        "joblib.dump(sc, '/content/drive/My Drive/Colab Notebooks/scaler_ensemble.pkl')"
      ]
    },
    {
      "cell_type": "code",
      "execution_count": 58,
      "metadata": {
        "id": "jNatX6am1Fjv"
      },
      "outputs": [],
      "source": [
        "# save the ensemble model using pickle for future use\n",
        "# pickle the ensemble model and save it to the specified file path\n",
        "import pickle\n",
        "filename = '/content/drive/My Drive/Colab Notebooks/sports_prediction_ensemble_model.pkl'\n",
        "pickle.dump(ensemble_model, open(filename, 'wb'))\n",
        "loaded_model = pickle.load(open(filename, 'rb'))"
      ]
    }
  ],
  "metadata": {
    "colab": {
      "provenance": []
    },
    "kernelspec": {
      "display_name": "Python 3",
      "name": "python3"
    },
    "language_info": {
      "name": "python"
    }
  },
  "nbformat": 4,
  "nbformat_minor": 0
}